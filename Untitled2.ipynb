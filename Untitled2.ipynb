{
  "nbformat": 4,
  "nbformat_minor": 0,
  "metadata": {
    "colab": {
      "provenance": []
    },
    "kernelspec": {
      "name": "python3",
      "display_name": "Python 3"
    },
    "language_info": {
      "name": "python"
    }
  },
  "cells": [
    {
      "cell_type": "markdown",
      "source": [
        "\n",
        "**1. Variable Swap: Write a Python program to swap the values of two variables without using a temporary variable.**"
      ],
      "metadata": {
        "id": "NYAnqDxb3Ktf"
      }
    },
    {
      "cell_type": "code",
      "source": [
        "a = 5\n",
        "b = 10\n",
        "\n",
        "print(\"Before swapping:\")\n",
        "print(\"a=\",a)\n",
        "print(\"b=\",b)\n",
        "\n",
        "print(\"After swapping:\")\n",
        "print (\"a=\",a)\n",
        "print (\"b=\",b)"
      ],
      "metadata": {
        "colab": {
          "base_uri": "https://localhost:8080/"
        },
        "id": "0KVSYurT3S__",
        "outputId": "4ba0e649-0bbe-46ba-c924-2252e15a37cf"
      },
      "execution_count": null,
      "outputs": [
        {
          "output_type": "stream",
          "name": "stdout",
          "text": [
            "Before swapping:\n",
            "a= 5\n",
            "b= 10\n",
            "After swapping:\n",
            "a= 5\n",
            "b= 10\n"
          ]
        }
      ]
    },
    {
      "cell_type": "markdown",
      "source": [
        "**2. Even or Odd: Write a Python program that takes an integer as input and prints whether it is even or odd.**"
      ],
      "metadata": {
        "id": "e3ioYPgF8ld1"
      }
    },
    {
      "cell_type": "code",
      "source": [
        "def check_even_odd(number):\n",
        "  if number % 2 == 0:\n",
        "    print(f\"{number} is even.\")\n",
        "  else:\n",
        "    print(f\"{number}is odd.\")\n",
        "\n",
        "number = int(input(\"Enter an integer: \"))\n",
        "\n",
        "check_even_odd(number)\n"
      ],
      "metadata": {
        "colab": {
          "base_uri": "https://localhost:8080/"
        },
        "id": "Tl6i9y548r2v",
        "outputId": "49472ecd-79b5-484d-ba75-cf1c3d89f541"
      },
      "execution_count": null,
      "outputs": [
        {
          "output_type": "stream",
          "name": "stdout",
          "text": [
            "Enter an integer: 5\n",
            "5is odd.\n"
          ]
        }
      ]
    },
    {
      "cell_type": "markdown",
      "source": [
        "**3. String Reverse: Write a Python function to reverse a given string and return the reversed string.**"
      ],
      "metadata": {
        "id": "4tPdhFTiA2BI"
      }
    },
    {
      "cell_type": "code",
      "source": [
        "def reverse_string(s):\n",
        "  return s[::-1]\n",
        "input_string = \"Hello, World!\"\n",
        "reversed_string = reverse_string(input_string)\n",
        "print(\"Original string:\", input_string)\n",
        "print(\"Reversed string:\", reversed_string)"
      ],
      "metadata": {
        "colab": {
          "base_uri": "https://localhost:8080/"
        },
        "id": "xobJC7ybBDTX",
        "outputId": "92dafbd4-9dbb-4a85-8284-8e9c13ca2ec3"
      },
      "execution_count": null,
      "outputs": [
        {
          "output_type": "stream",
          "name": "stdout",
          "text": [
            "Original string: Hello, World!\n",
            "Reversed string: !dlroW ,olleH\n"
          ]
        }
      ]
    },
    {
      "cell_type": "markdown",
      "source": [
        "**4. Type Conversion: Given a list of integers, write a Python program to convert each element of the list to a string.**"
      ],
      "metadata": {
        "id": "XcdPTA8GEYYR"
      }
    },
    {
      "cell_type": "code",
      "source": [
        "def convert_to_strings(int_list):\n",
        "  return [str(i)for i in int_list]\n",
        "integer_list = [1, 2, 3, 4, 5]\n",
        "string_list = convert_to_strings(integer_list)\n",
        "print(\"Original list of integers:\",integer_list)\n",
        "print(\"Converted list of strings:\",string_list)"
      ],
      "metadata": {
        "colab": {
          "base_uri": "https://localhost:8080/"
        },
        "id": "lodbJ6tnEcNH",
        "outputId": "8e7cc062-9309-4a35-a012-6b808c0b5fa6"
      },
      "execution_count": null,
      "outputs": [
        {
          "output_type": "stream",
          "name": "stdout",
          "text": [
            "Original list of integers: [1, 2, 3, 4, 5]\n",
            "Converted list of strings: ['1', '2', '3', '4', '5']\n"
          ]
        }
      ]
    },
    {
      "cell_type": "markdown",
      "source": [
        "**5. Temperature Converter: Write a Python program that converts a temperature in Celsius to Fahrenheit. Take the Celsius temperature as input from the user.**"
      ],
      "metadata": {
        "id": "tAhQ8OnqIZdo"
      }
    },
    {
      "cell_type": "code",
      "source": [
        "def celsius_to_farenheit(celsius):\n",
        "  return (celsius * 9/5) + 32\n",
        "\n",
        "celsius = float(input(\"Enter temperature in Celsius: \"))\n",
        "\n",
        "farenheit = celsius_to_farenheit(celsius)\n",
        "\n",
        "print(f\"{celsius}°C is equal to {farenheit}°F\")"
      ],
      "metadata": {
        "colab": {
          "base_uri": "https://localhost:8080/"
        },
        "id": "1fqdTErUIfQf",
        "outputId": "c5ba3cd0-6735-4e4b-f228-f98eaa65252e"
      },
      "execution_count": null,
      "outputs": [
        {
          "output_type": "stream",
          "name": "stdout",
          "text": [
            "Enter temperature in Celsius: 9\n",
            "9.0°C is equal to 48.2°F\n"
          ]
        }
      ]
    },
    {
      "cell_type": "markdown",
      "source": [
        "**6. Data Type Checker: Write a Python function that takes a variable as input and returns the data type of the variable as a string (e.g., “int”, “float”, “str”, “list”, etc.).**"
      ],
      "metadata": {
        "id": "ChlH2oPDP6ng"
      }
    },
    {
      "cell_type": "code",
      "source": [
        "def check_data_type(variable):\n",
        "  return type(variable).__name__\n",
        "print(check_data_type(42))\n",
        "print(check_data_type(3.14))\n",
        "print(check_data_type(\"Hello\"))\n",
        "print(check_data_type([1, 2, 3]))\n",
        "print(check_data_type((1, 2, 3)))\n",
        "print(check_data_type({'a': 1}))\n",
        "print(check_data_type({1, 2, 3}))\n",
        "print(check_data_type(True))"
      ],
      "metadata": {
        "colab": {
          "base_uri": "https://localhost:8080/"
        },
        "id": "dMz9DMETQbVn",
        "outputId": "35a43ec7-aacd-44b4-a3ca-b05213792d93"
      },
      "execution_count": null,
      "outputs": [
        {
          "output_type": "stream",
          "name": "stdout",
          "text": [
            "int\n",
            "float\n",
            "str\n",
            "list\n",
            "tuple\n",
            "dict\n",
            "set\n",
            "bool\n"
          ]
        }
      ]
    },
    {
      "cell_type": "markdown",
      "source": [
        "**7. String Palindrome: Write a Python function to check if a given string is a palindrome or not.**"
      ],
      "metadata": {
        "id": "M3E8SGPkVC0Y"
      }
    },
    {
      "cell_type": "code",
      "source": [
        "\n",
        "def is_palindrome(s):\n",
        "    s = s.replace(\" \", \"\").lower()\n",
        "\n",
        "    return s == s[::-1]\n",
        "\n",
        "\n",
        "print(is_palindrome(\"racecar\"))\n",
        "print(is_palindrome(\"hello\"))\n",
        "print(is_palindrome(\"A man a plan a canal Panama\"))\n",
        "print(is_palindrome(\"No lemon no melon\"))"
      ],
      "metadata": {
        "colab": {
          "base_uri": "https://localhost:8080/"
        },
        "id": "Av_-FnDIVF0e",
        "outputId": "8bfe5e2b-bae6-4a30-b43f-d3ecc42b107e"
      },
      "execution_count": null,
      "outputs": [
        {
          "output_type": "stream",
          "name": "stdout",
          "text": [
            "True\n",
            "False\n",
            "True\n",
            "True\n"
          ]
        }
      ]
    },
    {
      "cell_type": "markdown",
      "source": [
        "**8. String Reversal with Slicing: Write a Python function to reverse a given string using slicing.**"
      ],
      "metadata": {
        "id": "wxdeJoOCAx9F"
      }
    },
    {
      "cell_type": "code",
      "source": [
        "def reverse_string(s):\n",
        "  return s[::-1]\n",
        "\n",
        "original_string = \"Hello, World!\"\n",
        "reversed_string = reverse_string(original_string)\n",
        "print(f\"original string: {original_string}\")\n",
        "print(f\"Reversed string: {reversed_string}\")"
      ],
      "metadata": {
        "colab": {
          "base_uri": "https://localhost:8080/"
        },
        "id": "CSOYdOr4Aw31",
        "outputId": "8b5b3ccb-c08d-40f2-eb92-d1e81171364a"
      },
      "execution_count": null,
      "outputs": [
        {
          "output_type": "stream",
          "name": "stdout",
          "text": [
            "original string: Hello, World!\n",
            "Reversed string: !dlroW ,olleH\n"
          ]
        }
      ]
    },
    {
      "cell_type": "markdown",
      "source": [
        "**9. String Concatenation: Write a Python program that takes two strings as input and concatenates them into a single string without using the `+` operator.**"
      ],
      "metadata": {
        "id": "Qi9Rl6woH5qh"
      }
    },
    {
      "cell_type": "code",
      "source": [
        "def concatenate_strings(str1, str2):\n",
        "    return f\"{str1}{str2}\"\n",
        "\n",
        "string1 = \"Hello\"\n",
        "string2 = \"World\"\n",
        "concatenated_string = concatenate_strings(string1, string2)\n",
        "print(f\"Concatenated string: {concatenated_string}\")"
      ],
      "metadata": {
        "colab": {
          "base_uri": "https://localhost:8080/"
        },
        "id": "Pf1lkOzMH854",
        "outputId": "d3045bf6-1ca6-431c-b5f4-e3697f20877c"
      },
      "execution_count": null,
      "outputs": [
        {
          "output_type": "stream",
          "name": "stdout",
          "text": [
            "Concatenated string: HelloWorld\n"
          ]
        }
      ]
    },
    {
      "cell_type": "markdown",
      "source": [
        "**10. Typecasting Challenge: Given three variables: `a = ‘100’`, `b = 25`, and `c = ‘10.5’`, write a Python program to perform the following operations and print the results: – Convert `a` to an integer and add it to `b`. – Convert `c` to a float and subtract it from the result of the first operation. – Convert the final result to a string and concatenate it with the string ” is the answer.”**"
      ],
      "metadata": {
        "id": "GqQropQTIdX3"
      }
    },
    {
      "cell_type": "code",
      "source": [
        "a = '100'\n",
        "b = 25\n",
        "c = '10.5'\n",
        "\n",
        "\n",
        "a_int = int(a)\n",
        "result1 = a_int + b\n",
        "\n",
        "\n",
        "c_float = float(c)\n",
        "final_result = result1 - c_float\n",
        "\n",
        "\n",
        "final_result_str = str(final_result)\n",
        "final_output = final_result_str + \" is the answer.\"\n",
        "\n",
        "\n",
        "print(final_output)"
      ],
      "metadata": {
        "colab": {
          "base_uri": "https://localhost:8080/"
        },
        "id": "KbapFPolIgeZ",
        "outputId": "3a4ec3dc-68c2-420b-ce50-d8d6d8686448"
      },
      "execution_count": null,
      "outputs": [
        {
          "output_type": "stream",
          "name": "stdout",
          "text": [
            "114.5 is the answer.\n"
          ]
        }
      ]
    },
    {
      "cell_type": "markdown",
      "source": [
        "**11. Positive, Negative, or Zero: Write a Python program that takes a number as input and prints whether it is positive, negative, or zero.**"
      ],
      "metadata": {
        "id": "5mTQ55E1JIgi"
      }
    },
    {
      "cell_type": "code",
      "source": [
        "def check_number(num):\n",
        "    if num > 0:\n",
        "        return \"Positive\"\n",
        "    elif num < 0:\n",
        "        return \"Negative\"\n",
        "    else:\n",
        "        return \"Zero\"\n",
        "\n",
        "\n",
        "def main():\n",
        "    try:\n",
        "\n",
        "        num = float(input(\"Enter a number: \"))\n",
        "\n",
        "\n",
        "        result = check_number(num)\n",
        "\n",
        "\n",
        "        print(f\"The number {num} is {result}.\")\n",
        "    except ValueError:\n",
        "        print(\"Invalid input! Please enter a valid number.\")\n",
        "\n",
        "\n",
        "if __name__ == \"__main__\":\n",
        "    main()"
      ],
      "metadata": {
        "colab": {
          "base_uri": "https://localhost:8080/"
        },
        "id": "zWX1_zfhCSNH",
        "outputId": "2839fd95-39a2-4aee-8b69-def7a99325f6"
      },
      "execution_count": null,
      "outputs": [
        {
          "output_type": "stream",
          "name": "stdout",
          "text": [
            "Enter a number: 5\n",
            "The number 5.0 is Positive.\n"
          ]
        }
      ]
    },
    {
      "cell_type": "markdown",
      "source": [
        "**12. Largest of Three Numbers: Write a Python program that takes three numbers as input and prints the largest among them.**"
      ],
      "metadata": {
        "id": "Y_WP59VEDzwO"
      }
    },
    {
      "cell_type": "code",
      "source": [
        "def find_largest(num1, num2, num3):\n",
        "    if num1 >= num2 and num1 >= num3:\n",
        "        return num1\n",
        "    elif num2 >= num1 and num2 >= num3:\n",
        "        return num2\n",
        "    else:\n",
        "        return num3\n",
        "\n",
        "\n",
        "def main():\n",
        "    try:\n",
        "\n",
        "        num1 = float(input(\"Enter the first number: \"))\n",
        "        num2 = float(input(\"Enter the second number: \"))\n",
        "        num3 = float(input(\"Enter the third number: \"))\n",
        "\n",
        "\n",
        "        largest = find_largest(num1, num2, num3)\n",
        "\n",
        "\n",
        "        print(f\"The largest number among {num1}, {num2}, and {num3} is {largest}.\")\n",
        "    except ValueError:\n",
        "        print(\"Invalid input! Please enter valid numbers.\")\n",
        "\n",
        "\n",
        "if __name__ == \"__main__\":\n",
        "    main()"
      ],
      "metadata": {
        "colab": {
          "base_uri": "https://localhost:8080/"
        },
        "id": "SRfihwMRD7LH",
        "outputId": "c367c1c4-86a7-435e-a971-8841034d2db6"
      },
      "execution_count": null,
      "outputs": [
        {
          "output_type": "stream",
          "name": "stdout",
          "text": [
            "Enter the first number: 10\n",
            "Enter the second number: 20\n",
            "Enter the third number: 30\n",
            "The largest number among 10.0, 20.0, and 30.0 is 30.0.\n"
          ]
        }
      ]
    },
    {
      "cell_type": "markdown",
      "source": [
        "**13. Leap Year Checker: Write a Python program that takes a year as input and determines if it is a leap year or not.**"
      ],
      "metadata": {
        "id": "FS9ZmipXEkg3"
      }
    },
    {
      "cell_type": "code",
      "source": [
        "def is_leap_year(year):\n",
        "    if (year % 4 == 0 and year % 100 != 0) or (year % 400 == 0):\n",
        "        return True\n",
        "    else:\n",
        "        return False\n",
        "\n",
        "\n",
        "def main():\n",
        "    try:\n",
        "\n",
        "        year = int(input(\"Enter a year: \"))\n",
        "\n",
        "\n",
        "        if is_leap_year(year):\n",
        "            print(f\"The year {year} is a leap year.\")\n",
        "        else:\n",
        "            print(f\"The year {year} is not a leap year.\")\n",
        "    except ValueError:\n",
        "        print(\"Invalid input! Please enter a valid year.\")\n",
        "\n",
        "\n",
        "if __name__ == \"__main__\":\n",
        "    main()"
      ],
      "metadata": {
        "colab": {
          "base_uri": "https://localhost:8080/"
        },
        "id": "NJyxR72iEupT",
        "outputId": "a7404a3f-8b74-4b6f-aff8-b2ad85a5e80b"
      },
      "execution_count": null,
      "outputs": [
        {
          "output_type": "stream",
          "name": "stdout",
          "text": [
            "Enter a year: 2024\n",
            "The year 2024 is a leap year.\n"
          ]
        }
      ]
    },
    {
      "cell_type": "markdown",
      "source": [
        "**14. Grades Classification: Write a Python program that takes a student’s percentage as input and prints their corresponding grade according to the following criteria: – 90% or above: A+ – 80-89%: A – 70-79%: B – 60-69%: C – Below 60%: Fail**"
      ],
      "metadata": {
        "id": "_XgFwBJAHQBN"
      }
    },
    {
      "cell_type": "code",
      "source": [
        "\n",
        "def get_grade(percentage):\n",
        "    if percentage >= 90:\n",
        "        return \"A+\"\n",
        "    elif percentage >= 80:\n",
        "        return \"A\"\n",
        "    elif percentage >= 70:\n",
        "        return \"B\"\n",
        "    elif percentage >= 60:\n",
        "        return \"C\"\n",
        "    else:\n",
        "        return \"Fail\"\n",
        "\n",
        "\n",
        "def main():\n",
        "    try:\n",
        "\n",
        "        percentage = float(input(\"Enter the student's percentage: \"))\n",
        "\n",
        "\n",
        "        if percentage < 0 or percentage > 100:\n",
        "            print(\"Invalid percentage! Please enter a value between 0 and 100.\")\n",
        "        else:\n",
        "\n",
        "            grade = get_grade(percentage)\n",
        "\n",
        "\n",
        "            print(f\"The student's grade is: {grade}\")\n",
        "    except ValueError:\n",
        "        print(\"Invalid input! Please enter a valid number for the percentage.\")\n",
        "\n",
        "\n",
        "if __name__ == \"__main__\":\n",
        "    main()"
      ],
      "metadata": {
        "colab": {
          "base_uri": "https://localhost:8080/"
        },
        "id": "1m86xHz2H277",
        "outputId": "1392bf59-7986-4957-e37b-8226d70a9e7e"
      },
      "execution_count": null,
      "outputs": [
        {
          "output_type": "stream",
          "name": "stdout",
          "text": [
            "Enter the student's percentage: 90\n",
            "The student's grade is: A+\n"
          ]
        }
      ]
    },
    {
      "cell_type": "markdown",
      "source": [
        "**15. Vowel or Consonant: Write a Python program that takes a single character as input and determines whether it is a vowel or a consonant.**"
      ],
      "metadata": {
        "id": "4R3HMj3CIFDz"
      }
    },
    {
      "cell_type": "code",
      "source": [
        "\n",
        "def is_vowel(char):\n",
        "    vowels = 'AEIOUaeiou'\n",
        "    return char in vowels\n",
        "\n",
        "\n",
        "def main():\n",
        "\n",
        "    char = input(\"Enter a single character: \")\n",
        "\n",
        "    if len(char) != 1 or not char.isalpha():\n",
        "        print(\"Invalid input! Please enter a single alphabetic character.\")\n",
        "    else:\n",
        "\n",
        "        if is_vowel(char):\n",
        "            print(f\"The character '{char}' is a vowel.\")\n",
        "        else:\n",
        "            print(f\"The character '{char}' is a consonant.\")\n",
        "\n",
        "\n",
        "if __name__ == \"__main__\":\n",
        "    main()"
      ],
      "metadata": {
        "colab": {
          "base_uri": "https://localhost:8080/"
        },
        "id": "97UDHIPCIRK8",
        "outputId": "30d81ee7-e6a1-4ce1-9195-15f18e36cbdb"
      },
      "execution_count": null,
      "outputs": [
        {
          "output_type": "stream",
          "name": "stdout",
          "text": [
            "Enter a single character: a\n",
            "The character 'a' is a vowel.\n"
          ]
        }
      ]
    },
    {
      "cell_type": "markdown",
      "source": [
        "**16. Time Classification: Write a Python program that takes the time in hours (24-hour format) as input and prints “Good Morning”, “Good Afternoon”, “Good Evening”, or “Good Night” based on the time.**"
      ],
      "metadata": {
        "id": "epGPUU5FLP6d"
      }
    },
    {
      "cell_type": "code",
      "source": [
        "def get_greeting(hour):\n",
        "    if 5 <= hour < 12:\n",
        "        return \"Good Morning\"\n",
        "    elif 12 <= hour < 17:\n",
        "        return \"Good Afternoon\"\n",
        "    elif 17 <= hour < 21:\n",
        "        return \"Good Evening\"\n",
        "    else:\n",
        "        return \"Good Night\"\n",
        "\n",
        "def main():\n",
        "    try:\n",
        "\n",
        "        hour = int(input(\"Enter the time in hours (0-23): \"))\n",
        "\n",
        "\n",
        "        if hour < 0 or hour > 23:\n",
        "            print(\"Invalid input! Please enter an hour between 0 and 23.\")\n",
        "        else:\n",
        "\n",
        "            greeting = get_greeting(hour)\n",
        "\n",
        "\n",
        "            print(greeting)\n",
        "    except ValueError:\n",
        "        print(\"Invalid input! Please enter a valid integer for the hour.\")\n",
        "\n",
        "\n",
        "if __name__ == \"__main__\":\n",
        "    main()"
      ],
      "metadata": {
        "colab": {
          "base_uri": "https://localhost:8080/"
        },
        "id": "ue059URULXnr",
        "outputId": "d71243fc-cf47-4a61-cb8c-9242df2143e9"
      },
      "execution_count": null,
      "outputs": [
        {
          "output_type": "stream",
          "name": "stdout",
          "text": [
            "Enter the time in hours (0-23): 5\n",
            "Good Morning\n"
          ]
        }
      ]
    },
    {
      "cell_type": "markdown",
      "source": [
        "**17. Triangle Type Checker: Write a Python program that takes three sides of a triangle as input and determines whether it forms an equilateral, isosceles, or scalene triangle.**"
      ],
      "metadata": {
        "id": "_9wkewuzL6J5"
      }
    },
    {
      "cell_type": "code",
      "source": [
        "def triangle_type(side1, side2, side3):\n",
        "    if side1 == side2 == side3:\n",
        "        return \"Equilateral\"\n",
        "    elif side1 == side2 or side1 == side3 or side2 == side3:\n",
        "        return \"Isosceles\"\n",
        "    else:\n",
        "        return \"Scalene\"\n",
        "\n",
        "\n",
        "def main():\n",
        "    try:\n",
        "\n",
        "        side1 = float(input(\"Enter the length of the first side: \"))\n",
        "        side2 = float(input(\"Enter the length of the second side: \"))\n",
        "        side3 = float(input(\"Enter the length of the third side: \"))\n",
        "\n",
        "\n",
        "        if side1 <= 0 or side2 <= 0 or side3 <= 0:\n",
        "            print(\"Sides should be greater than zero.\")\n",
        "        elif side1 + side2 > side3 and side1 + side3 > side2 and side2 + side3 > side1:\n",
        "\n",
        "            triangle = triangle_type(side1, side2, side3)\n",
        "\n",
        "\n",
        "            print(f\"The triangle with sides {side1}, {side2}, and {side3} is {triangle}.\")\n",
        "        else:\n",
        "            print(\"The sides do not form a valid triangle.\")\n",
        "    except ValueError:\n",
        "        print(\"Invalid input! Please enter valid numbers for the sides.\")\n",
        "\n",
        "\n",
        "if __name__ == \"__main__\":\n",
        "    main()"
      ],
      "metadata": {
        "colab": {
          "base_uri": "https://localhost:8080/"
        },
        "id": "GEcgd5h4L_1p",
        "outputId": "3b0dbe02-00f5-4c88-f086-0786cbf15132"
      },
      "execution_count": null,
      "outputs": [
        {
          "output_type": "stream",
          "name": "stdout",
          "text": [
            "Enter the length of the first side: 5\n",
            "Enter the length of the second side: 6\n",
            "Enter the length of the third side: 7\n",
            "The triangle with sides 5.0, 6.0, and 7.0 is Scalene.\n"
          ]
        }
      ]
    },
    {
      "cell_type": "markdown",
      "source": [
        "18. Quadratic Equation Solver: Write a Python program that takes the coefficients (a, b, c) of a quadratic equation as input and calculates and prints the real roots (if they exist) or a message indicating the complex roots."
      ],
      "metadata": {
        "id": "qSQBjVe_Menk"
      }
    },
    {
      "cell_type": "code",
      "source": [
        "import cmath\n",
        "\n",
        "def solve_quadratic(a, b, c):\n",
        "\n",
        "    discriminant = b**2 - 4*a*c\n",
        "\n",
        "\n",
        "    if discriminant > 0:\n",
        "\n",
        "        root1 = (-b + discriminant**0.5) / (2 * a)\n",
        "        root2 = (-b - discriminant**0.5) / (2 * a)\n",
        "        return (root1, root2)\n",
        "    elif discriminant == 0:\n",
        "\n",
        "        root = -b / (2 * a)\n",
        "        return (root,)\n",
        "    else:\n",
        "\n",
        "        root1 = (-b + cmath.sqrt(discriminant)) / (2 * a)\n",
        "        root2 = (-b - cmath.sqrt(discriminant)) / (2 * a)\n",
        "        return (root1, root2)\n",
        "\n",
        "\n",
        "def main():\n",
        "    try:\n",
        "\n",
        "        a = float(input(\"Enter the coefficient a: \"))\n",
        "        b = float(input(\"Enter the coefficient b: \"))\n",
        "        c = float(input(\"Enter the coefficient c: \"))\n",
        "\n",
        "\n",
        "        if a == 0:\n",
        "            print(\"The value of 'a' must not be zero for a quadratic equation.\")\n",
        "        else:\n",
        "\n",
        "            roots = solve_quadratic(a, b, c)\n",
        "\n",
        "\n",
        "            if len(roots) == 1:\n",
        "                print(f\"The equation has one real root: {roots[0]}\")\n",
        "            else:\n",
        "                if all(isinstance(root, complex) for root in roots):\n",
        "                    print(f\"The equation has two complex roots: {roots[0]} and {roots[1]}\")\n",
        "                else:\n",
        "                    print(f\"The equation has two real roots: {roots[0]} and {roots[1]}\")\n",
        "    except ValueError:\n",
        "        print(\"Invalid input! Please enter valid numbers for the coefficients.\")\n",
        "\n",
        "\n",
        "if __name__ == \"__main__\":\n",
        "    main()"
      ],
      "metadata": {
        "colab": {
          "base_uri": "https://localhost:8080/"
        },
        "id": "V1jSZlJXM9pq",
        "outputId": "be964ee1-dd37-4a9a-b161-3378607fb988"
      },
      "execution_count": null,
      "outputs": [
        {
          "output_type": "stream",
          "name": "stdout",
          "text": [
            "Enter the coefficient a: 6\n",
            "Enter the coefficient b: 7\n",
            "Enter the coefficient c: 3\n",
            "The equation has two complex roots: (-0.5833333333333334+0.3996526269427266j) and (-0.5833333333333334-0.3996526269427266j)\n"
          ]
        }
      ]
    },
    {
      "cell_type": "markdown",
      "source": [
        "**19. Number Ranges: Write a Python program that takes an integer as input and prints whether the number falls within the ranges: 0-50, 51-100, 101-150, or above 150.**"
      ],
      "metadata": {
        "id": "GSHcWZgcRSZU"
      }
    },
    {
      "cell_type": "code",
      "source": [
        "def determine_range(number):\n",
        "    if 0 <= number <= 50:\n",
        "        return \"0-50\"\n",
        "    elif 51 <= number <= 100:\n",
        "        return \"51-100\"\n",
        "    elif 101 <= number <= 150:\n",
        "        return \"101-150\"\n",
        "    else:\n",
        "        return \"Above 150\"\n",
        "\n",
        "\n",
        "def main():\n",
        "    try:\n",
        "\n",
        "        number = int(input(\"Enter an integer: \"))\n",
        "\n",
        "\n",
        "        num_range = determine_range(number)\n",
        "\n",
        "\n",
        "        print(f\"The number {number} falls within the range: {num_range}\")\n",
        "    except ValueError:\n",
        "        print(\"Invalid input! Please enter a valid integer.\")\n",
        "\n",
        "\n",
        "if __name__ == \"__main__\":\n",
        "    main()"
      ],
      "metadata": {
        "colab": {
          "base_uri": "https://localhost:8080/"
        },
        "id": "qSGWy0alRYV8",
        "outputId": "9d7f9efc-ab05-47bf-a342-0ff7b6c51eb0"
      },
      "execution_count": null,
      "outputs": [
        {
          "output_type": "stream",
          "name": "stdout",
          "text": [
            "Enter an integer: 6\n",
            "The number 6 falls within the range: 0-50\n"
          ]
        }
      ]
    },
    {
      "cell_type": "markdown",
      "source": [
        "20. Sum of N Numbers: Write a Python program using a for loop to calculate the sum of the first N natural numbers, where N is taken as input from the user"
      ],
      "metadata": {
        "id": "1C-CruGMUeTL"
      }
    },
    {
      "cell_type": "code",
      "source": [
        "def calculate_sum_of_natural_numbers(N):\n",
        "    total = 0\n",
        "    for i in range(1, N + 1):\n",
        "        total += i\n",
        "    return total\n",
        "\n",
        "\n",
        "def main():\n",
        "    try:\n",
        "\n",
        "        N = int(input(\"Enter a positive integer N: \"))\n",
        "\n",
        "\n",
        "        if N <= 0:\n",
        "            print(\"N must be a positive integer.\")\n",
        "        else:\n",
        "\n",
        "            total_sum = calculate_sum_of_natural_numbers(N)\n",
        "\n",
        "\n",
        "            print(f\"The sum of the first {N} natural numbers is: {total_sum}\")\n",
        "    except ValueError:\n",
        "        print(\"Invalid input! Please enter a valid integer.\")\n",
        "\n",
        "\n",
        "if __name__ == \"__main__\":\n",
        "    main()"
      ],
      "metadata": {
        "colab": {
          "base_uri": "https://localhost:8080/"
        },
        "id": "vqcYOhh_Uolk",
        "outputId": "bee88da9-b331-433a-bc79-c8c5b761bc9c"
      },
      "execution_count": null,
      "outputs": [
        {
          "output_type": "stream",
          "name": "stdout",
          "text": [
            "Enter a positive integer N: 2\n",
            "The sum of the first 2 natural numbers is: 3\n"
          ]
        }
      ]
    },
    {
      "cell_type": "markdown",
      "source": [
        "**21. Factorial Calculator: Write a Python program using a while loop to calculate the factorial of a given number N.**"
      ],
      "metadata": {
        "id": "Sul8TnKAhHg8"
      }
    },
    {
      "cell_type": "code",
      "source": [
        "def factorial(N):\n",
        "\n",
        "    result = 1\n",
        "\n",
        "    counter = N\n",
        "\n",
        "    while counter > 0:\n",
        "        result *= counter\n",
        "        counter -= 1\n",
        "\n",
        "    return result\n",
        "\n",
        "N = int(input(\"Enter a number to calculate its factorial: \"))\n",
        "\n",
        "\n",
        "print(f\"The factorial of {N} is {factorial(N)}\")"
      ],
      "metadata": {
        "colab": {
          "base_uri": "https://localhost:8080/"
        },
        "id": "N6cAEpAQhMbR",
        "outputId": "feb9e1ba-ce76-4797-dfe9-531307fdfb56"
      },
      "execution_count": null,
      "outputs": [
        {
          "output_type": "stream",
          "name": "stdout",
          "text": [
            "Enter a number to calculate its factorial: 6\n",
            "The factorial of 6 is 720\n"
          ]
        }
      ]
    },
    {
      "cell_type": "markdown",
      "source": [
        "**22. Table of a Number: Write a Python program using a for loop to print the multiplication table of a given number N.**"
      ],
      "metadata": {
        "id": "0YaVuTiDiGuM"
      }
    },
    {
      "cell_type": "code",
      "source": [
        "def print_multiplication_table(N):\n",
        "\n",
        "    for i in range(1, 11):\n",
        "\n",
        "        product = N * i\n",
        "\n",
        "\n",
        "        print(f\"{N} x {i} = {product}\")\n",
        "\n",
        "N = int(input(\"Enter a number to print its multiplication table: \"))\n",
        "\n",
        "\n",
        "print_multiplication_table(N)"
      ],
      "metadata": {
        "colab": {
          "base_uri": "https://localhost:8080/"
        },
        "id": "kebFrtfeiO8i",
        "outputId": "09f2afc8-f10b-438e-9b58-02df08e1377b"
      },
      "execution_count": null,
      "outputs": [
        {
          "output_type": "stream",
          "name": "stdout",
          "text": [
            "Enter a number to print its multiplication table: 4\n",
            "4 x 1 = 4\n",
            "4 x 2 = 8\n",
            "4 x 3 = 12\n",
            "4 x 4 = 16\n",
            "4 x 5 = 20\n",
            "4 x 6 = 24\n",
            "4 x 7 = 28\n",
            "4 x 8 = 32\n",
            "4 x 9 = 36\n",
            "4 x 10 = 40\n"
          ]
        }
      ]
    },
    {
      "cell_type": "markdown",
      "source": [
        "**23. Count Digits in a Number: Write a Python program using a while loop to count the number of digits in a given integer N.**"
      ],
      "metadata": {
        "id": "5XSqWyVkjgEb"
      }
    },
    {
      "cell_type": "code",
      "source": [
        "def count_digits(N):\n",
        "\n",
        "    if N == 0:\n",
        "        return 1\n",
        "\n",
        "\n",
        "    count = 0\n",
        "\n",
        "    N = abs(N)\n",
        "\n",
        "    while N > 0:\n",
        "        N = N // 10\n",
        "\n",
        "        count += 1\n",
        "\n",
        "    return count\n",
        "\n",
        "\n",
        "N = int(input(\"Enter an integer to count its digits: \"))\n",
        "\n",
        "print(f\"The number of digits in {N} is {count_digits(N)}\")"
      ],
      "metadata": {
        "colab": {
          "base_uri": "https://localhost:8080/"
        },
        "id": "2QTiKn8KjpZV",
        "outputId": "10942cb6-27ee-4135-beee-5c0a0e929bd1"
      },
      "execution_count": null,
      "outputs": [
        {
          "output_type": "stream",
          "name": "stdout",
          "text": [
            "Enter an integer to count its digits: 44\n",
            "The number of digits in 44 is 2\n"
          ]
        }
      ]
    },
    {
      "cell_type": "markdown",
      "source": [
        "**24. Fibonacci Sequence: Write a Python program using a for loop to generate the Fibonacci sequence up to a given limit N**"
      ],
      "metadata": {
        "id": "B-Lypgk8kwBJ"
      }
    },
    {
      "cell_type": "code",
      "source": [
        "def generate_fibonacci(limit):\n",
        "    fibonacci_sequence = []\n",
        "    a, b = 0, 1\n",
        "\n",
        "    while a <= limit:\n",
        "        fibonacci_sequence.append(a)\n",
        "        a, b = b, a + b\n",
        "\n",
        "    return fibonacci_sequence\n",
        "\n",
        "N = int(input(\"Enter the limit N: \"))\n",
        "fibonacci_sequence = generate_fibonacci(N)\n",
        "print(\"Fibonacci sequence up to {}: {}\".format(N, fibonacci_sequence))"
      ],
      "metadata": {
        "colab": {
          "base_uri": "https://localhost:8080/"
        },
        "id": "HKTD8OMqm-oV",
        "outputId": "ee29e51e-f31d-4c51-9e61-b32275fcb763"
      },
      "execution_count": null,
      "outputs": [
        {
          "output_type": "stream",
          "name": "stdout",
          "text": [
            "Enter the limit N: 5\n",
            "Fibonacci sequence up to 5: [0, 1, 1, 2, 3, 5]\n"
          ]
        }
      ]
    },
    {
      "cell_type": "markdown",
      "source": [
        "**25. Sum of Even Numbers: Write a Python program using a while loop to calculate the sum of all even numbers between 1 and N, where N is taken as input from the user.**"
      ],
      "metadata": {
        "id": "Lg7z4xUdnOHk"
      }
    },
    {
      "cell_type": "code",
      "source": [
        "def sum_of_even_numbers(limit):\n",
        "    sum_even = 0\n",
        "    num = 2\n",
        "\n",
        "    while num <= limit:\n",
        "        sum_even += num\n",
        "        num += 2\n",
        "    return sum_even\n",
        "\n",
        "\n",
        "N = int(input(\"Enter the limit N: \"))\n",
        "sum_even = sum_of_even_numbers(N)\n",
        "print(\"Sum of even numbers between 1 and {}: {}\".format(N, sum_even))"
      ],
      "metadata": {
        "colab": {
          "base_uri": "https://localhost:8080/"
        },
        "id": "8o14nlJ8ncUL",
        "outputId": "4b9bbf39-819c-4467-c787-243f6ecf5a27"
      },
      "execution_count": null,
      "outputs": [
        {
          "output_type": "stream",
          "name": "stdout",
          "text": [
            "Enter the limit N: 6\n",
            "Sum of even numbers between 1 and 6: 12\n"
          ]
        }
      ]
    },
    {
      "cell_type": "markdown",
      "source": [
        "**26. Print Patterns: Write a Python program using nested for loops to print various patterns, such as a right-angled triangle, an inverted right-angled triangle, and so on.**"
      ],
      "metadata": {
        "id": "Os13awHanhl4"
      }
    },
    {
      "cell_type": "markdown",
      "source": [
        "1. Right-angled Triangle"
      ],
      "metadata": {
        "id": "-DA95jaioSBy"
      }
    },
    {
      "cell_type": "code",
      "source": [
        "def right_angled_triangle(rows):\n",
        "    for i in range(1, rows + 1):\n",
        "        for j in range(i):\n",
        "            print('*', end=' ')\n",
        "        print()\n",
        "\n",
        "rows = int(input(\"Enter the number of rows for the right-angled triangle: \"))\n",
        "right_angled_triangle(rows)"
      ],
      "metadata": {
        "colab": {
          "base_uri": "https://localhost:8080/"
        },
        "id": "kT6SMErZoWii",
        "outputId": "e47f053c-5902-4cba-a0f0-c92fc7acb3ad"
      },
      "execution_count": null,
      "outputs": [
        {
          "output_type": "stream",
          "name": "stdout",
          "text": [
            "Enter the number of rows for the right-angled triangle: 9\n",
            "* \n",
            "* * \n",
            "* * * \n",
            "* * * * \n",
            "* * * * * \n",
            "* * * * * * \n",
            "* * * * * * * \n",
            "* * * * * * * * \n",
            "* * * * * * * * * \n"
          ]
        }
      ]
    },
    {
      "cell_type": "markdown",
      "source": [
        "2. Inverted Right-angled Triangle"
      ],
      "metadata": {
        "id": "XdsEkEyPooZ3"
      }
    },
    {
      "cell_type": "code",
      "source": [
        "def inverted_right_angled_triangle(rows):\n",
        "    for i in range(rows, 0, -1):\n",
        "        for j in range(i):\n",
        "            print('*', end=' ')\n",
        "        print()\n",
        "\n",
        "\n",
        "rows = int(input(\"Enter the number of rows for the inverted right-angled triangle: \"))\n",
        "inverted_right_angled_triangle(rows)"
      ],
      "metadata": {
        "colab": {
          "base_uri": "https://localhost:8080/"
        },
        "id": "O8azZne6otv8",
        "outputId": "5145ebec-5b3d-4feb-b3ed-9060d5dbd75c"
      },
      "execution_count": null,
      "outputs": [
        {
          "output_type": "stream",
          "name": "stdout",
          "text": [
            "Enter the number of rows for the inverted right-angled triangle: 6\n",
            "* * * * * * \n",
            "* * * * * \n",
            "* * * * \n",
            "* * * \n",
            "* * \n",
            "* \n"
          ]
        }
      ]
    },
    {
      "cell_type": "markdown",
      "source": [
        "**27. Prime Number Checker: Write a Python program using a while loop to check if a given number N is prime or not.**"
      ],
      "metadata": {
        "id": "SofozPoHpP4z"
      }
    },
    {
      "cell_type": "code",
      "source": [
        "def is_prime(number):\n",
        "    if number <= 1:\n",
        "        return False\n",
        "    if number <= 3:\n",
        "        return True\n",
        "\n",
        "    if number % 2 == 0 or number % 3 == 0:\n",
        "        return False\n",
        "\n",
        "    i = 5\n",
        "    while i * i <= number:\n",
        "        if number % i == 0 or number % (i + 2) == 0:\n",
        "            return False\n",
        "        i += 6\n",
        "\n",
        "    return True\n",
        "\n",
        "\n",
        "N = int(input(\"Enter a number to check if it is prime: \"))\n",
        "if is_prime(N):\n",
        "    print(f\"{N} is a prime number.\")\n",
        "else:\n",
        "    print(f\"{N} is not a prime number.\")"
      ],
      "metadata": {
        "colab": {
          "base_uri": "https://localhost:8080/"
        },
        "id": "Q8ERC1jEp4v0",
        "outputId": "0d6772de-7b69-4c67-ce10-f9aa328c0289"
      },
      "execution_count": null,
      "outputs": [
        {
          "output_type": "stream",
          "name": "stdout",
          "text": [
            "Enter a number to check if it is prime: 5\n",
            "5 is a prime number.\n"
          ]
        }
      ]
    },
    {
      "cell_type": "markdown",
      "source": [
        "**28. List Manipulation: Given a list of integers, write a Python program using a for loop to find the sum, average, maximum, and minimum values in the list**"
      ],
      "metadata": {
        "id": "lqRAK0F2qmo3"
      }
    },
    {
      "cell_type": "code",
      "source": [
        "def list_statistics(numbers):\n",
        "    if not numbers:\n",
        "        return None, None, None, None\n",
        "    total_sum = 0\n",
        "    max_value = numbers[0]\n",
        "    min_value = numbers[0]\n",
        "\n",
        "    for number in numbers:\n",
        "        total_sum += number\n",
        "        if number > max_value:\n",
        "            max_value = number\n",
        "        if number < min_value:\n",
        "            min_value = number\n",
        "\n",
        "    average = total_sum / len(numbers)\n",
        "\n",
        "    return total_sum, average, max_value, min_value\n",
        "\n",
        "\n",
        "numbers = list(map(int, input(\"Enter a list of integers separated by spaces: \").split()))\n",
        "total_sum, average, max_value, min_value = list_statistics(numbers)\n",
        "\n",
        "if total_sum is not None:\n",
        "    print(\"Sum:\", total_sum)\n",
        "    print(\"Average:\", average)\n",
        "    print(\"Maximum:\", max_value)\n",
        "    print(\"Minimum:\", min_value)\n",
        "else:\n",
        "    print(\"The list is empty.\")"
      ],
      "metadata": {
        "colab": {
          "base_uri": "https://localhost:8080/"
        },
        "id": "CKa07LcNqpn7",
        "outputId": "aff32c39-380b-4583-8343-eba26ecc0245"
      },
      "execution_count": null,
      "outputs": [
        {
          "output_type": "stream",
          "name": "stdout",
          "text": [
            "Enter a list of integers separated by spaces: 2\n",
            "Sum: 2\n",
            "Average: 2.0\n",
            "Maximum: 2\n",
            "Minimum: 2\n"
          ]
        }
      ]
    },
    {
      "cell_type": "markdown",
      "source": [
        "**29. Reverse String: Write a Python program using a while loop to reverse a given string.**"
      ],
      "metadata": {
        "id": "NA30D4I9raTL"
      }
    },
    {
      "cell_type": "code",
      "source": [
        "def reverse_string(input_string):\n",
        "    reversed_string = \"\"\n",
        "    index = len(input_string) - 1\n",
        "\n",
        "    while index >= 0:\n",
        "        reversed_string += input_string[index]\n",
        "        index -= 1\n",
        "\n",
        "    return reversed_string\n",
        "\n",
        "\n",
        "input_string = input(\"Enter a string to reverse: \")\n",
        "reversed_string = reverse_string(input_string)\n",
        "print(\"Reversed string:\", reversed_string)\n"
      ],
      "metadata": {
        "colab": {
          "base_uri": "https://localhost:8080/"
        },
        "id": "R-GZuVXDrh8D",
        "outputId": "6bb473d8-9de7-43a6-c40f-0f1c134e8422"
      },
      "execution_count": null,
      "outputs": [
        {
          "output_type": "stream",
          "name": "stdout",
          "text": [
            "Enter a string to reverse: 3\n",
            "Reversed string: 3\n"
          ]
        }
      ]
    },
    {
      "cell_type": "markdown",
      "source": [
        "\n",
        "30. Multiplication Table: Write a Python program using nested loops to print the multiplication table from 1 to 10."
      ],
      "metadata": {
        "id": "tjmLpPJBsAAK"
      }
    },
    {
      "cell_type": "code",
      "source": [
        "def print_multiplication_table():\n",
        "    for i in range(1, 11):\n",
        "        for j in range(1, 11):\n",
        "            print(f\"{i * j:4}\", end=\" \")\n",
        "        print()\n",
        "\n",
        "\n",
        "print_multiplication_table()\n"
      ],
      "metadata": {
        "colab": {
          "base_uri": "https://localhost:8080/"
        },
        "id": "nLuiVNc8sn5T",
        "outputId": "5f611818-a993-4878-da57-c938ddbb2ce1"
      },
      "execution_count": null,
      "outputs": [
        {
          "output_type": "stream",
          "name": "stdout",
          "text": [
            "   1    2    3    4    5    6    7    8    9   10 \n",
            "   2    4    6    8   10   12   14   16   18   20 \n",
            "   3    6    9   12   15   18   21   24   27   30 \n",
            "   4    8   12   16   20   24   28   32   36   40 \n",
            "   5   10   15   20   25   30   35   40   45   50 \n",
            "   6   12   18   24   30   36   42   48   54   60 \n",
            "   7   14   21   28   35   42   49   56   63   70 \n",
            "   8   16   24   32   40   48   56   64   72   80 \n",
            "   9   18   27   36   45   54   63   72   81   90 \n",
            "  10   20   30   40   50   60   70   80   90  100 \n"
          ]
        }
      ]
    },
    {
      "cell_type": "markdown",
      "source": [
        "31. Print Patterns: Write a Python program using nested loops to print the following pattern:\n",
        "\n",
        "*\n",
        "\n",
        "**\n",
        "\n",
        "***\n",
        "\n",
        "****\n",
        "\n",
        "*****"
      ],
      "metadata": {
        "id": "Jf6uEm1LtKOr"
      }
    },
    {
      "cell_type": "code",
      "source": [
        "def print_pattern(rows):\n",
        "    for i in range(1, rows + 1):\n",
        "        for j in range(i):\n",
        "            print('*', end='')\n",
        "        print()\n",
        "\n",
        "\n",
        "rows = int(input(\"Enter the number of rows for the pattern: \"))\n",
        "print_pattern(rows)"
      ],
      "metadata": {
        "colab": {
          "base_uri": "https://localhost:8080/"
        },
        "id": "afxwowFTtRDz",
        "outputId": "9740fe2d-da83-4e20-8c04-976dd0e5f2a6"
      },
      "execution_count": null,
      "outputs": [
        {
          "output_type": "stream",
          "name": "stdout",
          "text": [
            "Enter the number of rows for the pattern: 3\n",
            "*\n",
            "**\n",
            "***\n"
          ]
        }
      ]
    },
    {
      "cell_type": "markdown",
      "source": [
        "\n",
        "**32. Matrix Multiplication: Write a Python program using nested loops to multiply two matrices. **"
      ],
      "metadata": {
        "id": "O-bChk1Ktrwd"
      }
    },
    {
      "cell_type": "code",
      "source": [
        "def matrix_multiplication(matrix_a, matrix_b):\n",
        "\n",
        "    rows_a = len(matrix_a)\n",
        "    cols_a = len(matrix_a[0])\n",
        "    rows_b = len(matrix_b)\n",
        "    cols_b = len(matrix_b[0])\n",
        "\n",
        "\n",
        "    if cols_a != rows_b:\n",
        "        raise ValueError(\"Number of columns in Matrix A must be equal to the number of rows in Matrix B\")\n",
        "\n",
        "\n",
        "    result_matrix = [[0 for _ in range(cols_b)] for _ in range(rows_a)]\n",
        "\n",
        "    for i in range(rows_a):\n",
        "        for j in range(cols_b):\n",
        "            for k in range(cols_a):\n",
        "                result_matrix[i][j] += matrix_a[i][k] * matrix_b[k][j]\n",
        "\n",
        "    return result_matrix\n",
        "\n",
        "\n",
        "matrix_a = [\n",
        "    [1, 2, 3],\n",
        "    [4, 5, 6],\n",
        "    [7, 8, 9]\n",
        "]\n",
        "\n",
        "matrix_b = [\n",
        "    [9, 8, 7],\n",
        "    [6, 5, 4],\n",
        "    [3, 2, 1]\n",
        "]\n",
        "\n",
        "result = matrix_multiplication(matrix_a, matrix_b)\n",
        "\n",
        "\n",
        "print(\"Matrix A:\")\n",
        "for row in matrix_a:\n",
        "    print(row)\n",
        "\n",
        "print(\"\\nMatrix B:\")\n",
        "for row in matrix_b:\n",
        "    print(row)\n",
        "\n",
        "print(\"\\nResultant Matrix:\")\n",
        "for row in result:\n",
        "    print(row)"
      ],
      "metadata": {
        "colab": {
          "base_uri": "https://localhost:8080/"
        },
        "id": "yvYMvU-it4fX",
        "outputId": "12f8ce23-1cf1-4516-ef97-5c75bcd63b39"
      },
      "execution_count": null,
      "outputs": [
        {
          "output_type": "stream",
          "name": "stdout",
          "text": [
            "Matrix A:\n",
            "[1, 2, 3]\n",
            "[4, 5, 6]\n",
            "[7, 8, 9]\n",
            "\n",
            "Matrix B:\n",
            "[9, 8, 7]\n",
            "[6, 5, 4]\n",
            "[3, 2, 1]\n",
            "\n",
            "Resultant Matrix:\n",
            "[30, 24, 18]\n",
            "[84, 69, 54]\n",
            "[138, 114, 90]\n"
          ]
        }
      ]
    },
    {
      "cell_type": "markdown",
      "source": [
        "**33. Chessboard Pattern: Write a Python program using nested loops to print a chessboard pattern (alternating “X” and “O” characters) of size 8×8.34. Number Pyramid: Write a Python program using nested loops to print a number pyramid like the following: 1 22 333 4444 55555**"
      ],
      "metadata": {
        "id": "NJ9HSXYf0Nzn"
      }
    },
    {
      "cell_type": "code",
      "source": [
        "def print_number_pyramid(rows):\n",
        "    for i in range(1, rows + 1):\n",
        "        for j in range(i):\n",
        "            print(i, end='')\n",
        "        print()\n",
        "\n",
        "\n",
        "print_number_pyramid(5)"
      ],
      "metadata": {
        "colab": {
          "base_uri": "https://localhost:8080/"
        },
        "id": "Dr06aZKz0zAg",
        "outputId": "a06493ea-bb44-449e-a6a4-9f96e0ca9688"
      },
      "execution_count": null,
      "outputs": [
        {
          "output_type": "stream",
          "name": "stdout",
          "text": [
            "1\n",
            "22\n",
            "333\n",
            "4444\n",
            "55555\n"
          ]
        }
      ]
    },
    {
      "cell_type": "markdown",
      "source": [
        "**34. List Sum: Write a Python program to find the sum of all elements in a given list of integers.**"
      ],
      "metadata": {
        "id": "7sIC78Ga1j80"
      }
    },
    {
      "cell_type": "code",
      "source": [
        "def list_sum(numbers):\n",
        "    total_sum = 0\n",
        "    for number in numbers:\n",
        "        total_sum += number\n",
        "    return total_sum\n",
        "\n",
        "numbers = [int(x) for x in input(\"Enter a list of integers separated by spaces: \").split()]\n",
        "sum_of_list = list_sum(numbers)\n",
        "print(\"Sum of the list:\", sum_of_list)"
      ],
      "metadata": {
        "colab": {
          "base_uri": "https://localhost:8080/"
        },
        "id": "BTzKjFaJ1pDN",
        "outputId": "f5e9a209-4d82-4a22-ea50-e9f52145ff20"
      },
      "execution_count": null,
      "outputs": [
        {
          "output_type": "stream",
          "name": "stdout",
          "text": [
            "Enter a list of integers separated by spaces: 32\n",
            "Sum of the list: 32\n"
          ]
        }
      ]
    },
    {
      "cell_type": "markdown",
      "source": [
        "**35. List Average: Write a Python program to calculate the average of all elements in a given list of integers**."
      ],
      "metadata": {
        "id": "SLA5K8thnZms"
      }
    },
    {
      "cell_type": "code",
      "source": [
        "def calculate_average(numbers):\n",
        "    if not numbers:\n",
        "        return 0\n",
        "    total_sum = sum(numbers)\n",
        "    count = len(numbers)\n",
        "    average = total_sum / count\n",
        "    return average\n",
        "\n",
        "\n",
        "numbers = [10, 20, 30, 40, 50]\n",
        "average = calculate_average(numbers)\n",
        "print(f\"The average of the list is: {average}\")"
      ],
      "metadata": {
        "colab": {
          "base_uri": "https://localhost:8080/"
        },
        "id": "6DuwKgaNn4R6",
        "outputId": "25d69a43-2655-44d7-95c1-e5423e7f1042"
      },
      "execution_count": null,
      "outputs": [
        {
          "output_type": "stream",
          "name": "stdout",
          "text": [
            "The average of the list is: 30.0\n"
          ]
        }
      ]
    },
    {
      "cell_type": "markdown",
      "source": [
        "**36. List Max and Min: Write a Python program to find the maximum and minimum values in a given list of integers.**"
      ],
      "metadata": {
        "id": "Nc8WiipYoAPR"
      }
    },
    {
      "cell_type": "code",
      "source": [
        "def find_max_min(numbers):\n",
        "    if not numbers:\n",
        "        return None, None\n",
        "    max_value = max(numbers)\n",
        "    min_value = min(numbers)\n",
        "    return max_value, min_value\n",
        "\n",
        "\n",
        "numbers = [10, 20, 30, 40, 50]\n",
        "max_value, min_value = find_max_min(numbers)\n",
        "print(f\"The maximum value in the list is: {max_value}\")\n",
        "print(f\"The minimum value in the list is: {min_value}\")"
      ],
      "metadata": {
        "colab": {
          "base_uri": "https://localhost:8080/"
        },
        "id": "b1_XMTaSoHHR",
        "outputId": "777b4058-ef9e-4d55-9b3e-37f8869bca40"
      },
      "execution_count": null,
      "outputs": [
        {
          "output_type": "stream",
          "name": "stdout",
          "text": [
            "The maximum value in the list is: 50\n",
            "The minimum value in the list is: 10\n"
          ]
        }
      ]
    },
    {
      "cell_type": "markdown",
      "source": [
        "**37. List Sorting: Write a Python program to sort a list of integers in ascending order.**"
      ],
      "metadata": {
        "id": "HCFmh7CCoeFA"
      }
    },
    {
      "cell_type": "code",
      "source": [
        "def sort_list_ascending(numbers):\n",
        "    sorted_numbers = sorted(numbers)\n",
        "    return sorted_numbers\n",
        "\n",
        "\n",
        "numbers = [50, 20, 30, 10, 40]\n",
        "sorted_numbers = sort_list_ascending(numbers)\n",
        "print(f\"The sorted list is: {sorted_numbers}\")"
      ],
      "metadata": {
        "colab": {
          "base_uri": "https://localhost:8080/"
        },
        "id": "jHuxiYXhoupJ",
        "outputId": "100fcd20-2f3f-42d0-9cdb-b04e416dfe52"
      },
      "execution_count": null,
      "outputs": [
        {
          "output_type": "stream",
          "name": "stdout",
          "text": [
            "The sorted list is: [10, 20, 30, 40, 50]\n"
          ]
        }
      ]
    },
    {
      "cell_type": "markdown",
      "source": [
        "**38. List Filtering: Given a list of integers, write a Python program to create a new list that contains only the even numbers from the original list.**"
      ],
      "metadata": {
        "id": "5woxajY-oyhy"
      }
    },
    {
      "cell_type": "code",
      "source": [
        "def filter_even_numbers(numbers):\n",
        "    even_numbers = [num for num in numbers if num % 2 == 0]\n",
        "    return even_numbers\n",
        "\n",
        "\n",
        "numbers = [10, 15, 20, 25, 30, 35, 40]\n",
        "even_numbers = filter_even_numbers(numbers)\n",
        "print(f\"The list of even numbers is: {even_numbers}\")"
      ],
      "metadata": {
        "colab": {
          "base_uri": "https://localhost:8080/"
        },
        "id": "KY6k7IoZo4RJ",
        "outputId": "37139e15-e446-42cd-ced9-f74ebf30445c"
      },
      "execution_count": null,
      "outputs": [
        {
          "output_type": "stream",
          "name": "stdout",
          "text": [
            "The list of even numbers is: [10, 20, 30, 40]\n"
          ]
        }
      ]
    },
    {
      "cell_type": "markdown",
      "source": [
        "39. List Reversal: Write a Python program to reverse a given list without using any built-in functions."
      ],
      "metadata": {
        "id": "tqMrh1i3pByh"
      }
    },
    {
      "cell_type": "code",
      "source": [
        "def reverse_list(numbers):\n",
        "    reversed_list = []\n",
        "    for i in range(len(numbers) - 1, -1, -1):\n",
        "        reversed_list.append(numbers[i])\n",
        "    return reversed_list\n",
        "\n",
        "\n",
        "numbers = [10, 20, 30, 40, 50]\n",
        "reversed_numbers = reverse_list(numbers)\n",
        "print(f\"The reversed list is: {reversed_numbers}\")"
      ],
      "metadata": {
        "colab": {
          "base_uri": "https://localhost:8080/"
        },
        "id": "0RWddrsLpGtZ",
        "outputId": "737362b2-6807-47f4-93a4-a044cc053918"
      },
      "execution_count": null,
      "outputs": [
        {
          "output_type": "stream",
          "name": "stdout",
          "text": [
            "The reversed list is: [50, 40, 30, 20, 10]\n"
          ]
        }
      ]
    },
    {
      "cell_type": "markdown",
      "source": [
        "**40. List Manipulation: Given two lists of integers, write a Python program to create a new list that contains elements common to both lists.**"
      ],
      "metadata": {
        "id": "e65ZWqRfpRDO"
      }
    },
    {
      "cell_type": "code",
      "source": [
        "def find_common_elements(list1, list2):\n",
        "    common_elements = []\n",
        "    for element in list1:\n",
        "        if element in list2 and element not in common_elements:\n",
        "            common_elements.append(element)\n",
        "    return common_elements\n",
        "\n",
        "\n",
        "list1 = [10, 20, 30, 40, 50]\n",
        "list2 = [30, 40, 50, 60, 70]\n",
        "common_elements = find_common_elements(list1, list2)\n",
        "print(f\"The common elements are: {common_elements}\")"
      ],
      "metadata": {
        "colab": {
          "base_uri": "https://localhost:8080/"
        },
        "id": "QMSIBcXjpclq",
        "outputId": "a2ffd7a4-68f5-4fba-99c1-a1d9f1b8f808"
      },
      "execution_count": null,
      "outputs": [
        {
          "output_type": "stream",
          "name": "stdout",
          "text": [
            "The common elements are: [30, 40, 50]\n"
          ]
        }
      ]
    },
    {
      "cell_type": "markdown",
      "source": [
        "**41. List Element Count: Write a Python program to count the occurrences of a specific element in a given list.**"
      ],
      "metadata": {
        "id": "plR2zJehpjv6"
      }
    },
    {
      "cell_type": "code",
      "source": [
        "def count_occurrences(numbers, target):\n",
        "    count = 0\n",
        "    for num in numbers:\n",
        "        if num == target:\n",
        "            count += 1\n",
        "    return count\n",
        "\n",
        "\n",
        "numbers = [10, 20, 30, 20, 20, 40, 50, 20]\n",
        "target = 20\n",
        "count = count_occurrences(numbers, target)\n",
        "print(f\"The element {target} occurs {count} times in the list.\")"
      ],
      "metadata": {
        "colab": {
          "base_uri": "https://localhost:8080/"
        },
        "id": "nYgcnkwfppOC",
        "outputId": "f5f62465-badb-40a4-93cc-0ca75a668c71"
      },
      "execution_count": null,
      "outputs": [
        {
          "output_type": "stream",
          "name": "stdout",
          "text": [
            "The element 20 occurs 4 times in the list.\n"
          ]
        }
      ]
    },
    {
      "cell_type": "markdown",
      "source": [
        "**42. List Duplicates Removal: Write a Python program to remove duplicates from a given list while preserving the order of the elements.**"
      ],
      "metadata": {
        "id": "J6PKmiKMp0yq"
      }
    },
    {
      "cell_type": "code",
      "source": [
        "def remove_duplicates(numbers):\n",
        "    seen = set()\n",
        "    unique_numbers = []\n",
        "    for num in numbers:\n",
        "        if num not in seen:\n",
        "            unique_numbers.append(num)\n",
        "            seen.add(num)\n",
        "    return unique_numbers\n",
        "\n",
        "\n",
        "numbers = [10, 20, 30, 20, 40, 50, 30, 60, 40]\n",
        "unique_numbers = remove_duplicates(numbers)\n",
        "print(f\"The list with duplicates removed is: {unique_numbers}\")"
      ],
      "metadata": {
        "colab": {
          "base_uri": "https://localhost:8080/"
        },
        "id": "Bm99lu9Pp5ir",
        "outputId": "709e6502-4d50-4254-ecba-4991de12f6ef"
      },
      "execution_count": null,
      "outputs": [
        {
          "output_type": "stream",
          "name": "stdout",
          "text": [
            "The list with duplicates removed is: [10, 20, 30, 40, 50, 60]\n"
          ]
        }
      ]
    },
    {
      "cell_type": "markdown",
      "source": [
        "**43. List Comprehension: Given a list of integers, write a Python program to create a new list that contains the squares of the elements using list comprehension.**"
      ],
      "metadata": {
        "id": "qKrXZ7wjqE6A"
      }
    },
    {
      "cell_type": "code",
      "source": [
        "def square_elements(numbers):\n",
        "    squared_numbers = [num ** 2 for num in numbers]\n",
        "    return squared_numbers\n",
        "\n",
        "\n",
        "numbers = [1, 2, 3, 4, 5]\n",
        "squared_numbers = square_elements(numbers)\n",
        "print(f\"The list of squared numbers is: {squared_numbers}\")"
      ],
      "metadata": {
        "colab": {
          "base_uri": "https://localhost:8080/"
        },
        "id": "GWZdjJWoqao9",
        "outputId": "9f5eb2b8-6d14-47d3-c4ba-8b89741cce2e"
      },
      "execution_count": null,
      "outputs": [
        {
          "output_type": "stream",
          "name": "stdout",
          "text": [
            "The list of squared numbers is: [1, 4, 9, 16, 25]\n"
          ]
        }
      ]
    },
    {
      "cell_type": "markdown",
      "source": [
        "44. Matrix Addition: Write a Python program to add two matrices represented as nested lists"
      ],
      "metadata": {
        "id": "qZCYZY3aqc1K"
      }
    },
    {
      "cell_type": "code",
      "source": [
        "def add_matrices(matrix1, matrix2):\n",
        "    if len(matrix1) != len(matrix2) or len(matrix1[0]) != len(matrix2[0]):\n",
        "        raise ValueError(\"Matrices must have the same dimensions for addition.\")\n",
        "\n",
        "    result = []\n",
        "    for i in range(len(matrix1)):\n",
        "        row = []\n",
        "        for j in range(len(matrix1[0])):\n",
        "            row.append(matrix1[i][j] + matrix2[i][j])\n",
        "        result.append(row)\n",
        "    return result\n",
        "\n",
        "\n",
        "matrix1 = [[1, 2, 3],\n",
        "           [4, 5, 6],\n",
        "           [7, 8, 9]]\n",
        "\n",
        "matrix2 = [[9, 8, 7],\n",
        "           [6, 5, 4],\n",
        "           [3, 2, 1]]\n",
        "\n",
        "result = add_matrices(matrix1, matrix2)\n",
        "print(\"The result of matrix addition is:\")\n",
        "for row in result:\n",
        "    print(row)"
      ],
      "metadata": {
        "colab": {
          "base_uri": "https://localhost:8080/"
        },
        "id": "2BV50VBuqoVB",
        "outputId": "0e7787be-2920-4a7a-9f8e-826c588a870b"
      },
      "execution_count": null,
      "outputs": [
        {
          "output_type": "stream",
          "name": "stdout",
          "text": [
            "The result of matrix addition is:\n",
            "[10, 10, 10]\n",
            "[10, 10, 10]\n",
            "[10, 10, 10]\n"
          ]
        }
      ]
    },
    {
      "cell_type": "markdown",
      "source": [
        "45. Flatten Nested List: Write a Python program to flatten a given nested list and convert it into a single-dimensional list."
      ],
      "metadata": {
        "id": "Lk09bmX1qzlv"
      }
    },
    {
      "cell_type": "code",
      "source": [
        "def flatten_list(nested_list):\n",
        "    flattened_list = []\n",
        "    for sublist in nested_list:\n",
        "        if isinstance(sublist, list):\n",
        "            flattened_list.extend(flatten_list(sublist))\n",
        "        else:\n",
        "            flattened_list.append(sublist)\n",
        "    return flattened_list\n",
        "\n",
        "\n",
        "nested_list = [1, [2, 3], [4, [5, 6]], 7]\n",
        "flattened_list = flatten_list(nested_list)\n",
        "print(\"The flattened list is:\", flattened_list)"
      ],
      "metadata": {
        "id": "UfKlXfTHrANR",
        "colab": {
          "base_uri": "https://localhost:8080/"
        },
        "outputId": "1612fc5a-9d8b-40d5-fdb6-74c3db763612"
      },
      "execution_count": null,
      "outputs": [
        {
          "output_type": "stream",
          "name": "stdout",
          "text": [
            "The flattened list is: [1, 2, 3, 4, 5, 6, 7]\n"
          ]
        }
      ]
    },
    {
      "cell_type": "markdown",
      "source": [
        "46. List Element Frequency: Given a nested list containing lists of integers, write a Python program to count the frequency of each element in the entire nested list."
      ],
      "metadata": {
        "id": "LmghIVxCrF6x"
      }
    },
    {
      "cell_type": "code",
      "source": [
        "def count_element_frequency(nested_list, frequency_dict=None):\n",
        "    if frequency_dict is None:\n",
        "        frequency_dict = {}\n",
        "\n",
        "    for element in nested_list:\n",
        "        if isinstance(element, list):\n",
        "            count_element_frequency(element, frequency_dict)\n",
        "        else:\n",
        "            if element in frequency_dict:\n",
        "                frequency_dict[element] += 1\n",
        "            else:\n",
        "                frequency_dict[element] = 1\n",
        "\n",
        "    return frequency_dict\n",
        "\n",
        "\n",
        "nested_list = [[1, 2, 3], [4, 5, 6], [1, 2, 3, 4, 5]]\n",
        "frequency_dict = count_element_frequency(nested_list)\n",
        "print(\"Frequency of each element in the nested list:\")\n",
        "for element, frequency in frequency_dict.items():\n",
        "    print(f\"{element}: {frequency}\")"
      ],
      "metadata": {
        "colab": {
          "base_uri": "https://localhost:8080/"
        },
        "id": "3Si5kQ-aryTB",
        "outputId": "c1894674-46f2-4c4b-e6b0-3e09c14eb9c6"
      },
      "execution_count": null,
      "outputs": [
        {
          "output_type": "stream",
          "name": "stdout",
          "text": [
            "Frequency of each element in the nested list:\n",
            "1: 2\n",
            "2: 2\n",
            "3: 2\n",
            "4: 2\n",
            "5: 2\n",
            "6: 1\n"
          ]
        }
      ]
    },
    {
      "cell_type": "markdown",
      "source": [
        "47. Transpose Matrix: Write a Python program to transpose a given matrix represented as a nested list."
      ],
      "metadata": {
        "id": "ej6GRGK4r1rx"
      }
    },
    {
      "cell_type": "code",
      "source": [
        "def transpose_matrix(matrix):\n",
        "    num_rows = len(matrix)\n",
        "    num_cols = len(matrix[0])\n",
        "\n",
        "    transposed_matrix = []\n",
        "    for j in range(num_cols):\n",
        "        transposed_row = []\n",
        "        for i in range(num_rows):\n",
        "            transposed_row.append(matrix[i][j])\n",
        "        transposed_matrix.append(transposed_row)\n",
        "\n",
        "    return transposed_matrix\n",
        "\n",
        "\n",
        "matrix = [[1, 2, 3],\n",
        "          [4, 5, 6],\n",
        "          [7, 8, 9]]\n",
        "\n",
        "transposed_matrix = transpose_matrix(matrix)\n",
        "print(\"Original Matrix:\")\n",
        "for row in matrix:\n",
        "    print(row)\n",
        "\n",
        "print(\"\\nTransposed Matrix:\")\n",
        "for row in transposed_matrix:\n",
        "    print(row)"
      ],
      "metadata": {
        "colab": {
          "base_uri": "https://localhost:8080/"
        },
        "id": "4d0a9q6Pr-Jh",
        "outputId": "90071f65-0c16-4fbd-a481-ae6351dfc3c2"
      },
      "execution_count": null,
      "outputs": [
        {
          "output_type": "stream",
          "name": "stdout",
          "text": [
            "Original Matrix:\n",
            "[1, 2, 3]\n",
            "[4, 5, 6]\n",
            "[7, 8, 9]\n",
            "\n",
            "Transposed Matrix:\n",
            "[1, 4, 7]\n",
            "[2, 5, 8]\n",
            "[3, 6, 9]\n"
          ]
        }
      ]
    },
    {
      "cell_type": "markdown",
      "source": [
        "48. List of Lists Concatenation: Given a list of nested lists, write a Python program to concatenate all the sublists into a single flat list."
      ],
      "metadata": {
        "id": "AA-H02O7sOzK"
      }
    },
    {
      "cell_type": "code",
      "source": [
        "def concatenate_lists(nested_list):\n",
        "    flat_list = []\n",
        "    for sublist in nested_list:\n",
        "        flat_list.extend(sublist)\n",
        "    return flat_list\n",
        "\n",
        "\n",
        "nested_list = [[1, 2, 3], [4, 5], [6, 7, 8]]\n",
        "flat_list = concatenate_lists(nested_list)\n",
        "print(\"Flat list:\", flat_list)"
      ],
      "metadata": {
        "colab": {
          "base_uri": "https://localhost:8080/"
        },
        "id": "YvsrkEX6sUsZ",
        "outputId": "52e1b5a5-ef14-4dff-aa36-9557ed6b092a"
      },
      "execution_count": null,
      "outputs": [
        {
          "output_type": "stream",
          "name": "stdout",
          "text": [
            "Flat list: [1, 2, 3, 4, 5, 6, 7, 8]\n"
          ]
        }
      ]
    },
    {
      "cell_type": "markdown",
      "source": [
        "49. Tuple Concatenation: Write a Python program to concatenate two tuples and create a new tuple."
      ],
      "metadata": {
        "id": "spl6kdGOskWp"
      }
    },
    {
      "cell_type": "code",
      "source": [
        "def concatenate_tuples(tuple1, tuple2):\n",
        "    concatenated_tuple = tuple1 + tuple2\n",
        "    return concatenated_tuple\n",
        "\n",
        "\n",
        "tuple1 = (1, 2, 3)\n",
        "tuple2 = (4, 5, 6)\n",
        "concatenated_tuple = concatenate_tuples(tuple1, tuple2)\n",
        "print(\"Concatenated tuple:\", concatenated_tuple)"
      ],
      "metadata": {
        "colab": {
          "base_uri": "https://localhost:8080/"
        },
        "id": "vFdqj3xEspc7",
        "outputId": "013d64c9-e30e-432e-de01-3f1ac7dfc008"
      },
      "execution_count": null,
      "outputs": [
        {
          "output_type": "stream",
          "name": "stdout",
          "text": [
            "Concatenated tuple: (1, 2, 3, 4, 5, 6)\n"
          ]
        }
      ]
    },
    {
      "cell_type": "markdown",
      "source": [
        "50. Tuple Unpacking: Given a tuple with three elements (x, y, z), write a Python program to unpack the tuple and assign the values to three variables."
      ],
      "metadata": {
        "id": "oB_Ro9zhsxta"
      }
    },
    {
      "cell_type": "code",
      "source": [
        "\n",
        "tuple_xyz = (10, 20, 30)\n",
        "\n",
        "x, y, z = tuple_xyz\n",
        "\n",
        "print(\"x:\", x)\n",
        "print(\"y:\", y)\n",
        "print(\"z:\", z)"
      ],
      "metadata": {
        "colab": {
          "base_uri": "https://localhost:8080/"
        },
        "id": "iKBau2SDs76K",
        "outputId": "dd659b39-6a92-4ff8-9dab-6d14efc62890"
      },
      "execution_count": null,
      "outputs": [
        {
          "output_type": "stream",
          "name": "stdout",
          "text": [
            "x: 10\n",
            "y: 20\n",
            "z: 30\n"
          ]
        }
      ]
    },
    {
      "cell_type": "markdown",
      "source": [
        "51. Tuple Sorting: Write a Python program to sort a tuple of integers in ascending order."
      ],
      "metadata": {
        "id": "mg5do32ItKEh"
      }
    },
    {
      "cell_type": "code",
      "source": [
        "def sort_tuple_ascending(tuple_of_integers):\n",
        "\n",
        "    sorted_tuple = tuple(sorted(tuple_of_integers))\n",
        "    return sorted_tuple\n",
        "\n",
        "\n",
        "tuple_of_integers = (5, 2, 8, 1, 9, 3)\n",
        "sorted_tuple = sort_tuple_ascending(tuple_of_integers)\n",
        "print(\"Sorted tuple:\", sorted_tuple)"
      ],
      "metadata": {
        "colab": {
          "base_uri": "https://localhost:8080/"
        },
        "id": "kNiT-Wb_tS3K",
        "outputId": "8d6c8a16-f2ab-4f9f-9fb5-040458cf6ed9"
      },
      "execution_count": null,
      "outputs": [
        {
          "output_type": "stream",
          "name": "stdout",
          "text": [
            "Sorted tuple: (1, 2, 3, 5, 8, 9)\n"
          ]
        }
      ]
    },
    {
      "cell_type": "markdown",
      "source": [
        "52. Tuple Frequency Count: Given a tuple containing various elements, write a Python program to count the frequency of a specific element in the tuple."
      ],
      "metadata": {
        "id": "CLLDyZPntgWJ"
      }
    },
    {
      "cell_type": "code",
      "source": [
        "def count_element_frequency(tuple_elements, element):\n",
        "    frequency = 0\n",
        "    for item in tuple_elements:\n",
        "        if item == element:\n",
        "            frequency += 1\n",
        "    return frequency\n",
        "\n",
        "tuple_elements = (1, 2, 3, 4, 2, 3, 2, 5, 2)\n",
        "element_to_count = 2\n",
        "frequency = count_element_frequency(tuple_elements, element_to_count)\n",
        "print(f\"The frequency of {element_to_count} in the tuple is: {frequency}\")"
      ],
      "metadata": {
        "colab": {
          "base_uri": "https://localhost:8080/"
        },
        "id": "C5IUQo17tlLZ",
        "outputId": "01ff1029-85f7-4ee0-e4b7-7a451ccc2ca7"
      },
      "execution_count": null,
      "outputs": [
        {
          "output_type": "stream",
          "name": "stdout",
          "text": [
            "The frequency of 2 in the tuple is: 4\n"
          ]
        }
      ]
    },
    {
      "cell_type": "markdown",
      "source": [
        "53. Tuple to List: Write a Python program to convert a tuple into a list."
      ],
      "metadata": {
        "id": "MHsLXc6StuoA"
      }
    },
    {
      "cell_type": "code",
      "source": [
        "def tuple_to_list(tuple_elements):\n",
        "\n",
        "    converted_list = list(tuple_elements)\n",
        "    return converted_list\n",
        "\n",
        "\n",
        "tuple_elements = (1, 2, 3, 4, 5)\n",
        "converted_list = tuple_to_list(tuple_elements)\n",
        "print(\"Converted list:\", converted_list)"
      ],
      "metadata": {
        "colab": {
          "base_uri": "https://localhost:8080/"
        },
        "id": "c11Ydxkit1pZ",
        "outputId": "66950483-a443-499c-8b67-89eae406341c"
      },
      "execution_count": null,
      "outputs": [
        {
          "output_type": "stream",
          "name": "stdout",
          "text": [
            "Converted list: [1, 2, 3, 4, 5]\n"
          ]
        }
      ]
    },
    {
      "cell_type": "markdown",
      "source": [
        "54. Tuple Reversal: Write a Python program to reverse a tuple without using any built-in functions."
      ],
      "metadata": {
        "id": "Lvq10hY7uLM5"
      }
    },
    {
      "cell_type": "code",
      "source": [
        "def reverse_tuple(tuple_elements):\n",
        "    reversed_tuple = tuple_elements[::-1]\n",
        "    return reversed_tuple\n",
        "\n",
        "\n",
        "tuple_elements = (1, 2, 3, 4, 5)\n",
        "reversed_tuple = reverse_tuple(tuple_elements)\n",
        "print(\"Reversed tuple:\", reversed_tuple)"
      ],
      "metadata": {
        "colab": {
          "base_uri": "https://localhost:8080/"
        },
        "id": "RqtlQfoOuRjp",
        "outputId": "c41ae812-a7d7-4e84-83ea-cb178b35fb8e"
      },
      "execution_count": null,
      "outputs": [
        {
          "output_type": "stream",
          "name": "stdout",
          "text": [
            "Reversed tuple: (5, 4, 3, 2, 1)\n"
          ]
        }
      ]
    },
    {
      "cell_type": "markdown",
      "source": [
        "55. Tuple Slicing: Given a tuple, write a Python program to extract a slice of elements from it."
      ],
      "metadata": {
        "id": "fzeaqqaGuZLx"
      }
    },
    {
      "cell_type": "code",
      "source": [
        "def slice_tuple(tuple_elements, start, end):\n",
        "    sliced_tuple = tuple_elements[start:end]\n",
        "    return sliced_tuple\n",
        "\n",
        "\n",
        "tuple_elements = (1, 2, 3, 4, 5, 6, 7, 8, 9)\n",
        "start_index = 2\n",
        "end_index = 6\n",
        "sliced_tuple = slice_tuple(tuple_elements, start_index, end_index)\n",
        "print(\"Sliced tuple:\", sliced_tuple)"
      ],
      "metadata": {
        "colab": {
          "base_uri": "https://localhost:8080/"
        },
        "id": "KZP9wKdBul0H",
        "outputId": "96d1cd5b-f9e7-4a96-e7e8-9066e90a8127"
      },
      "execution_count": null,
      "outputs": [
        {
          "output_type": "stream",
          "name": "stdout",
          "text": [
            "Sliced tuple: (3, 4, 5, 6)\n"
          ]
        }
      ]
    },
    {
      "cell_type": "markdown",
      "source": [
        "56. Tuple Operations: Given two tuples of integers, write a Python program to perform element-wise addition, subtraction, and multiplication and create new tuples for each operation."
      ],
      "metadata": {
        "id": "zVpQT_g2uy6Z"
      }
    },
    {
      "cell_type": "code",
      "source": [
        "def element_wise_operations(tuple1, tuple2):\n",
        "    if len(tuple1) != len(tuple2):\n",
        "        raise ValueError(\"Tuples must have the same length for element-wise operations.\")\n",
        "\n",
        "    addition_tuple = tuple(a + b for a, b in zip(tuple1, tuple2))\n",
        "    subtraction_tuple = tuple(a - b for a, b in zip(tuple1, tuple2))\n",
        "    multiplication_tuple = tuple(a * b for a, b in zip(tuple1, tuple2))\n",
        "\n",
        "    return addition_tuple, subtraction_tuple, multiplication_tuple\n",
        "\n",
        "\n",
        "tuple1 = (1, 2, 3, 4)\n",
        "tuple2 = (5, 6, 7, 8)\n",
        "\n",
        "addition_tuple, subtraction_tuple, multiplication_tuple = element_wise_operations(tuple1, tuple2)\n",
        "\n",
        "print(\"Element-wise addition:\", addition_tuple)\n",
        "print(\"Element-wise subtraction:\", subtraction_tuple)\n",
        "print(\"Element-wise multiplication:\", multiplication_tuple)"
      ],
      "metadata": {
        "colab": {
          "base_uri": "https://localhost:8080/"
        },
        "id": "-8aMslO-u0aB",
        "outputId": "ad53936a-7c49-4258-a439-270e1792dca0"
      },
      "execution_count": null,
      "outputs": [
        {
          "output_type": "stream",
          "name": "stdout",
          "text": [
            "Element-wise addition: (6, 8, 10, 12)\n",
            "Element-wise subtraction: (-4, -4, -4, -4)\n",
            "Element-wise multiplication: (5, 12, 21, 32)\n"
          ]
        }
      ]
    },
    {
      "cell_type": "markdown",
      "source": [
        "57. Tuple Membership Test: Write a Python program that takes an element as input and checks if it exists in a given tuple."
      ],
      "metadata": {
        "id": "DHKocE2wvKJx"
      }
    },
    {
      "cell_type": "code",
      "source": [
        "def check_element_in_tuple(tuple_elements, element):\n",
        "    if element in tuple_elements:\n",
        "        return True\n",
        "    else:\n",
        "        return False\n",
        "\n",
        "tuple_elements = (1, 2, 3, 4, 5)\n",
        "element_to_check = 3\n",
        "\n",
        "is_member = check_element_in_tuple(tuple_elements, element_to_check)\n",
        "if is_member:\n",
        "    print(f\"The element {element_to_check} exists in the tuple.\")\n",
        "else:\n",
        "    print(f\"The element {element_to_check} does not exist in the tuple.\")"
      ],
      "metadata": {
        "colab": {
          "base_uri": "https://localhost:8080/"
        },
        "id": "MMsoAUH3vUoi",
        "outputId": "5fd159b9-2d9b-43d6-927d-2e5bc35cd2cd"
      },
      "execution_count": null,
      "outputs": [
        {
          "output_type": "stream",
          "name": "stdout",
          "text": [
            "The element 3 exists in the tuple.\n"
          ]
        }
      ]
    },
    {
      "cell_type": "markdown",
      "source": [
        "58. Tuple Packing: Write a Python program to pack three variables into a single tuple and print the tuple."
      ],
      "metadata": {
        "id": "pXzgkTyzvlfK"
      }
    },
    {
      "cell_type": "code",
      "source": [
        "def pack_into_tuple(a, b, c):\n",
        "    packed_tuple = (a, b, c)\n",
        "    return packed_tuple\n",
        "\n",
        "x = 10\n",
        "y = 20\n",
        "z = 30\n",
        "\n",
        "packed_tuple = pack_into_tuple(x, y, z)\n",
        "print(\"Packed tuple:\", packed_tuple)\n"
      ],
      "metadata": {
        "colab": {
          "base_uri": "https://localhost:8080/"
        },
        "id": "Z-3RS-b1vsli",
        "outputId": "f6fab5e3-f964-48a5-9ede-163ffe223121"
      },
      "execution_count": null,
      "outputs": [
        {
          "output_type": "stream",
          "name": "stdout",
          "text": [
            "Packed tuple: (10, 20, 30)\n"
          ]
        }
      ]
    },
    {
      "cell_type": "markdown",
      "source": [
        "59. Nested List Element Access: Given a nested list, write a Python program to access and print specific elements from it"
      ],
      "metadata": {
        "id": "beD1SpyEv0Ls"
      }
    },
    {
      "cell_type": "code",
      "source": [
        "def access_nested_list_element(nested_list, outer_index, inner_index):\n",
        "    try:\n",
        "        element = nested_list[outer_index][inner_index]\n",
        "        return element\n",
        "    except IndexError:\n",
        "        return \"Index out of range.\"\n",
        "\n",
        "\n",
        "nested_list = [\n",
        "    [1, 2, 3],\n",
        "    [4, 5, 6],\n",
        "    [7, 8, 9]\n",
        "]\n",
        "\n",
        "\n",
        "print(\"Element at [0][1]:\", access_nested_list_element(nested_list, 0, 1))\n",
        "print(\"Element at [1][2]:\", access_nested_list_element(nested_list, 1, 2))\n",
        "print(\"Element at [2][0]:\", access_nested_list_element(nested_list, 2, 0))\n",
        "print(\"Element at [3][0]:\", access_nested_list_element(nested_list, 3, 0))"
      ],
      "metadata": {
        "colab": {
          "base_uri": "https://localhost:8080/"
        },
        "id": "9BaW47CbwHqZ",
        "outputId": "f7c1c09a-865b-4008-d3c9-034bef6a4593"
      },
      "execution_count": null,
      "outputs": [
        {
          "output_type": "stream",
          "name": "stdout",
          "text": [
            "Element at [0][1]: 2\n",
            "Element at [1][2]: 6\n",
            "Element at [2][0]: 7\n",
            "Element at [3][0]: Index out of range.\n"
          ]
        }
      ]
    },
    {
      "cell_type": "markdown",
      "source": [
        "60. Nested List Flattening: Write a Python program to flatten a nested list and convert it into a single-dimensional list."
      ],
      "metadata": {
        "id": "4J_KHMJgwZLs"
      }
    },
    {
      "cell_type": "code",
      "source": [
        "def flatten_nested_list(nested_list):\n",
        "    flat_list = []\n",
        "    for element in nested_list:\n",
        "        if isinstance(element, list):\n",
        "            flat_list.extend(flatten_nested_list(element))\n",
        "        else:\n",
        "            flat_list.append(element)\n",
        "    return flat_list\n",
        "\n",
        "\n",
        "nested_list = [1, [2, [3, 4], 5], [6, 7], 8, [9, [10]]]\n",
        "flattened_list = flatten_nested_list(nested_list)\n",
        "print(\"Flattened list:\", flattened_list)"
      ],
      "metadata": {
        "colab": {
          "base_uri": "https://localhost:8080/"
        },
        "id": "xFtB6DYewjSJ",
        "outputId": "4f1bcc03-27f0-4341-e764-ff96cba87466"
      },
      "execution_count": null,
      "outputs": [
        {
          "output_type": "stream",
          "name": "stdout",
          "text": [
            "Flattened list: [1, 2, 3, 4, 5, 6, 7, 8, 9, 10]\n"
          ]
        }
      ]
    },
    {
      "cell_type": "markdown",
      "source": [
        "61. Nested List Sorting: Given a nested list containing lists of integers, write a Python program to sort the sublists based on their lengths."
      ],
      "metadata": {
        "id": "VmxXWbzKwsMR"
      }
    },
    {
      "cell_type": "code",
      "source": [
        "def sort_nested_list_by_length(nested_list):\n",
        "    sorted_list = sorted(nested_list, key=len)\n",
        "    return sorted_list\n",
        "\n",
        "\n",
        "nested_list = [[1, 2, 3], [4, 5], [6, 7, 8, 9], [10]]\n",
        "sorted_nested_list = sort_nested_list_by_length(nested_list)\n",
        "print(\"Sorted nested list by length:\", sorted_nested_list)"
      ],
      "metadata": {
        "colab": {
          "base_uri": "https://localhost:8080/"
        },
        "id": "RQBwIL5xw57q",
        "outputId": "404e4541-c9bf-4540-b07c-e26f04ff79bd"
      },
      "execution_count": null,
      "outputs": [
        {
          "output_type": "stream",
          "name": "stdout",
          "text": [
            "Sorted nested list by length: [[10], [4, 5], [1, 2, 3], [6, 7, 8, 9]]\n"
          ]
        }
      ]
    },
    {
      "cell_type": "markdown",
      "source": [
        "62. List of Tuples Conversion: Given a nested list containing tuples of (x, y) coordinates, write a Python program to convert it into a list of x-coordinates and a list of y-coordinates."
      ],
      "metadata": {
        "id": "tHLL7HzIw8rC"
      }
    },
    {
      "cell_type": "code",
      "source": [
        "def convert_coordinates(nested_list):\n",
        "    x_coordinates = [t[0] for sublist in nested_list for t in sublist]\n",
        "    y_coordinates = [t[1] for sublist in nested_list for t in sublist]\n",
        "    return x_coordinates, y_coordinates\n",
        "\n",
        "\n",
        "nested_list = [[(1, 2), (3, 4)], [(5, 6), (7, 8)], [(9, 10)]]\n",
        "x_coords, y_coords = convert_coordinates(nested_list)\n",
        "print(\"X-coordinates:\", x_coords)\n",
        "print(\"Y-coordinates:\", y_coords)\n"
      ],
      "metadata": {
        "colab": {
          "base_uri": "https://localhost:8080/"
        },
        "id": "cYbvtw0OxEwf",
        "outputId": "430214bb-234e-4612-d077-ea33d11d6c0b"
      },
      "execution_count": null,
      "outputs": [
        {
          "output_type": "stream",
          "name": "stdout",
          "text": [
            "X-coordinates: [1, 3, 5, 7, 9]\n",
            "Y-coordinates: [2, 4, 6, 8, 10]\n"
          ]
        }
      ]
    },
    {
      "cell_type": "markdown",
      "source": [
        "63. Matrix Transpose: Write a Python program to transpose a given matrix represented as a nested list."
      ],
      "metadata": {
        "id": "S0fM-r3jxMzP"
      }
    },
    {
      "cell_type": "code",
      "source": [
        "def transpose_matrix(matrix):\n",
        "    transposed_matrix = []\n",
        "    for i in range(len(matrix[0])):\n",
        "        transposed_row = []\n",
        "        for row in matrix:\n",
        "            transposed_row.append(row[i])\n",
        "        transposed_matrix.append(transposed_row)\n",
        "    return transposed_matrix\n",
        "\n",
        "matrix = [\n",
        "    [1, 2, 3],\n",
        "    [4, 5, 6],\n",
        "    [7, 8, 9]\n",
        "]\n",
        "\n",
        "transposed_matrix = transpose_matrix(matrix)\n",
        "print(\"Transposed matrix:\")\n",
        "for row in transposed_matrix:\n",
        "    print(row)"
      ],
      "metadata": {
        "colab": {
          "base_uri": "https://localhost:8080/"
        },
        "id": "iffNKlrdxZj3",
        "outputId": "9ece3b91-a203-4c4c-f3f0-d826dbcef9b4"
      },
      "execution_count": null,
      "outputs": [
        {
          "output_type": "stream",
          "name": "stdout",
          "text": [
            "Transposed matrix:\n",
            "[1, 4, 7]\n",
            "[2, 5, 8]\n",
            "[3, 6, 9]\n"
          ]
        }
      ]
    },
    {
      "cell_type": "markdown",
      "source": [
        "64. Nested List Concatenation: Given a list of nested lists, write a Python program to concatenate all the sublists into a single flat list."
      ],
      "metadata": {
        "id": "I8pD7irvxcEZ"
      }
    },
    {
      "cell_type": "code",
      "source": [
        "def concatenate_nested_lists(nested_list):\n",
        "    flat_list = [element for sublist in nested_list for element in sublist]\n",
        "    return flat_list\n",
        "\n",
        "nested_list = [[1, 2, 3], [4, 5], [6, 7, 8, 9], [10]]\n",
        "flattened_list = concatenate_nested_lists(nested_list)\n",
        "print(\"Concatenated list:\", flattened_list)"
      ],
      "metadata": {
        "colab": {
          "base_uri": "https://localhost:8080/"
        },
        "id": "DTwql0EixjtL",
        "outputId": "f89cd50a-d415-43a9-d909-a2752dd33909"
      },
      "execution_count": null,
      "outputs": [
        {
          "output_type": "stream",
          "name": "stdout",
          "text": [
            "Concatenated list: [1, 2, 3, 4, 5, 6, 7, 8, 9, 10]\n"
          ]
        }
      ]
    },
    {
      "cell_type": "markdown",
      "source": [
        "65. Count Even Numbers: Write a Python program to count the number of even numbers in a nested list."
      ],
      "metadata": {
        "id": "7UUQ4GyoxtWQ"
      }
    },
    {
      "cell_type": "code",
      "source": [
        "def count_even_numbers(nested_list):\n",
        "    count = 0\n",
        "    for sublist in nested_list:\n",
        "        for element in sublist:\n",
        "            if isinstance(element, int) and element % 2 == 0:\n",
        "                count += 1\n",
        "    return count\n",
        "\n",
        "\n",
        "nested_list = [[1, 2, 3], [4, 5, 6], [7, 8, 9]]\n",
        "even_count = count_even_numbers(nested_list)\n",
        "print(\"Number of even numbers:\", even_count)"
      ],
      "metadata": {
        "colab": {
          "base_uri": "https://localhost:8080/"
        },
        "id": "Lf2NEzd_x08Q",
        "outputId": "9a16389d-39da-423a-c3c9-2b907f192a47"
      },
      "execution_count": null,
      "outputs": [
        {
          "output_type": "stream",
          "name": "stdout",
          "text": [
            "Number of even numbers: 4\n"
          ]
        }
      ]
    },
    {
      "cell_type": "markdown",
      "source": [
        "66. Maximum Element in Nested List: Write a Python program to find the maximum element in a nested list of integers."
      ],
      "metadata": {
        "id": "q7o6Pwd3yIhk"
      }
    },
    {
      "cell_type": "code",
      "source": [
        "def find_max_in_nested_list(nested_list):\n",
        "    max_element = float('-inf')\n",
        "    for sublist in nested_list:\n",
        "        if isinstance(sublist, list):\n",
        "            max_element = max(max_element, find_max_in_nested_list(sublist))\n",
        "        else:\n",
        "            max_element = max(max_element, sublist)\n",
        "    return max_element\n",
        "\n",
        "\n",
        "nested_list = [[1, 2, 3], [4, 5, 6], [7, 8, 9]]\n",
        "max_element = find_max_in_nested_list(nested_list)\n",
        "print(\"Maximum element in the nested list:\", max_element)"
      ],
      "metadata": {
        "colab": {
          "base_uri": "https://localhost:8080/"
        },
        "id": "CGQsSXUCyNPU",
        "outputId": "71fd3e97-c9b1-49a2-9e6d-e7e7087a54e3"
      },
      "execution_count": null,
      "outputs": [
        {
          "output_type": "stream",
          "name": "stdout",
          "text": [
            "Maximum element in the nested list: 9\n"
          ]
        }
      ]
    },
    {
      "cell_type": "markdown",
      "source": [
        "67. Diagonal Sum of Matrix: Given a square matrix represented as a nested list, write a Python program to calculate the sum of the elements in the main diagonal."
      ],
      "metadata": {
        "id": "mSuctFX2ypv5"
      }
    },
    {
      "cell_type": "code",
      "source": [
        "def diagonal_sum(matrix):\n",
        "    n = len(matrix)\n",
        "    diagonal_sum = 0\n",
        "    for i in range(n):\n",
        "        diagonal_sum += matrix[i][i]\n",
        "    return diagonal_sum\n",
        "\n",
        "\n",
        "matrix = [\n",
        "    [1, 2, 3],\n",
        "    [4, 5, 6],\n",
        "    [7, 8, 9]\n",
        "]\n",
        "main_diagonal_sum = diagonal_sum(matrix)\n",
        "print(\"Sum of elements in the main diagonal:\", main_diagonal_sum)"
      ],
      "metadata": {
        "colab": {
          "base_uri": "https://localhost:8080/"
        },
        "id": "-NmbjArMy4rr",
        "outputId": "e8f5c4bc-8e97-484d-e3e3-3c29e6616428"
      },
      "execution_count": null,
      "outputs": [
        {
          "output_type": "stream",
          "name": "stdout",
          "text": [
            "Sum of elements in the main diagonal: 15\n"
          ]
        }
      ]
    },
    {
      "cell_type": "markdown",
      "source": [
        "68. Nested List Element Search: Write a Python program to search for a specific element in a nested list and return its position (row and column indices)."
      ],
      "metadata": {
        "id": "G6NEBPh1y7Gx"
      }
    },
    {
      "cell_type": "code",
      "source": [
        "def search_element_in_nested_list(nested_list, element):\n",
        "    for i, sublist in enumerate(nested_list):\n",
        "        for j, value in enumerate(sublist):\n",
        "            if value == element:\n",
        "                return i, j\n",
        "    return None\n",
        "\n",
        "nested_list = [\n",
        "    [1, 2, 3],\n",
        "    [4, 5, 6],\n",
        "    [7, 8, 9]\n",
        "]\n",
        "element_to_search = 5\n",
        "position = search_element_in_nested_list(nested_list, element_to_search)\n",
        "if position:\n",
        "    row, col = position\n",
        "    print(f\"Element {element_to_search} found at position (row={row}, column={col})\")\n",
        "else:\n",
        "    print(f\"Element {element_to_search} not found in the nested list.\")"
      ],
      "metadata": {
        "colab": {
          "base_uri": "https://localhost:8080/"
        },
        "id": "0zJaGwsKzD3p",
        "outputId": "15237ca8-9991-4fe8-e29f-27f789b7996a"
      },
      "execution_count": null,
      "outputs": [
        {
          "output_type": "stream",
          "name": "stdout",
          "text": [
            "Element 5 found at position (row=1, column=1)\n"
          ]
        }
      ]
    },
    {
      "cell_type": "markdown",
      "source": [
        "69. Duplicate Removal: Write a Python program that takes a list of elements as input and creates a new set containing only the unique elements from the list."
      ],
      "metadata": {
        "id": "Ezbi9nH_zXGC"
      }
    },
    {
      "cell_type": "code",
      "source": [
        "def remove_duplicates(input_list):\n",
        "    unique_set = set(input_list)\n",
        "    return unique_set\n",
        "\n",
        "\n",
        "input_list = [1, 2, 3, 4, 2, 3, 5]\n",
        "unique_elements = remove_duplicates(input_list)\n",
        "print(\"Unique elements:\", unique_elements)"
      ],
      "metadata": {
        "colab": {
          "base_uri": "https://localhost:8080/"
        },
        "id": "rnlRaCqZzrsp",
        "outputId": "afdfe71a-30f1-473d-ccc0-8aa70bf8e652"
      },
      "execution_count": null,
      "outputs": [
        {
          "output_type": "stream",
          "name": "stdout",
          "text": [
            "Unique elements: {1, 2, 3, 4, 5}\n"
          ]
        }
      ]
    },
    {
      "cell_type": "markdown",
      "source": [
        "70. Set Intersection: Given two sets A and B, write a Python program to find their intersection and print the common elements."
      ],
      "metadata": {
        "id": "3KeEiofqztpS"
      }
    },
    {
      "cell_type": "code",
      "source": [
        "def find_intersection(set_A, set_B):\n",
        "    intersection = set_A.intersection(set_B)\n",
        "    return intersection\n",
        "\n",
        "set_A = {1, 2, 3, 4, 5}\n",
        "set_B = {4, 5, 6, 7, 8}\n",
        "common_elements = find_intersection(set_A, set_B)\n",
        "print(\"Intersection of sets A and B:\", common_elements)"
      ],
      "metadata": {
        "colab": {
          "base_uri": "https://localhost:8080/"
        },
        "id": "SIh6qPDOzz9S",
        "outputId": "d9a703dd-dd42-439f-a773-158ab0e02638"
      },
      "execution_count": null,
      "outputs": [
        {
          "output_type": "stream",
          "name": "stdout",
          "text": [
            "Intersection of sets A and B: {4, 5}\n"
          ]
        }
      ]
    },
    {
      "cell_type": "markdown",
      "source": [
        "71. Set Union: Given two sets A and B, write a Python program to find their union and print all the distinct elements from both sets."
      ],
      "metadata": {
        "id": "wTlKsTiAz7hx"
      }
    },
    {
      "cell_type": "code",
      "source": [
        "def find_union(set_A, set_B):\n",
        "    union = set_A.union(set_B)\n",
        "    return union\n",
        "\n",
        "set_A = {1, 2, 3, 4, 5}\n",
        "set_B = {4, 5, 6, 7, 8}\n",
        "distinct_elements = find_union(set_A, set_B)\n",
        "print(\"Union of sets A and B:\", distinct_elements)"
      ],
      "metadata": {
        "colab": {
          "base_uri": "https://localhost:8080/"
        },
        "id": "1liitIn30DTT",
        "outputId": "cf6a24be-1ac9-4bd1-d5ac-c82444bb6b3d"
      },
      "execution_count": null,
      "outputs": [
        {
          "output_type": "stream",
          "name": "stdout",
          "text": [
            "Union of sets A and B: {1, 2, 3, 4, 5, 6, 7, 8}\n"
          ]
        }
      ]
    },
    {
      "cell_type": "markdown",
      "source": [
        "72. Set Difference: Given two sets A and B, write a Python program to find the difference between set A and set B (i.e., elements present in A but not in B) and print the result."
      ],
      "metadata": {
        "id": "IRT1B2Wc0LDx"
      }
    },
    {
      "cell_type": "code",
      "source": [
        "def find_set_difference(set_A, set_B):\n",
        "    difference = set_A.difference(set_B)\n",
        "    return difference\n",
        "\n",
        "\n",
        "set_A = {1, 2, 3, 4, 5}\n",
        "set_B = {4, 5, 6, 7, 8}\n",
        "difference_A_B = find_set_difference(set_A, set_B)\n",
        "print(\"Difference of set A - set B:\", difference_A_B)"
      ],
      "metadata": {
        "colab": {
          "base_uri": "https://localhost:8080/"
        },
        "id": "eRNgVDvM0Wvq",
        "outputId": "b29f7a4a-a8cd-4ef3-f763-f58d1164b023"
      },
      "execution_count": null,
      "outputs": [
        {
          "output_type": "stream",
          "name": "stdout",
          "text": [
            "Difference of set A - set B: {1, 2, 3}\n"
          ]
        }
      ]
    },
    {
      "cell_type": "markdown",
      "source": [
        "73. Set Symmetric Difference: Given two sets A and B, write a Python program to find the symmetric difference between the two sets (i.e., elements that are present in either set A or set B, but not in both) and print the result."
      ],
      "metadata": {
        "id": "4r8ObGKA0YuC"
      }
    },
    {
      "cell_type": "code",
      "source": [
        "def find_symmetric_difference(set_A, set_B):\n",
        "    symmetric_difference = set_A.symmetric_difference(set_B)\n",
        "    return symmetric_difference\n",
        "\n",
        "\n",
        "set_A = {1, 2, 3, 4, 5}\n",
        "set_B = {4, 5, 6, 7, 8}\n",
        "symmetric_difference_A_B = find_symmetric_difference(set_A, set_B)\n",
        "print(\"Symmetric difference of sets A and B:\", symmetric_difference_A_B)"
      ],
      "metadata": {
        "colab": {
          "base_uri": "https://localhost:8080/"
        },
        "id": "3MrS8RCD0e36",
        "outputId": "d9499327-87ec-4a2d-b3bc-fa3d5870efcd"
      },
      "execution_count": null,
      "outputs": [
        {
          "output_type": "stream",
          "name": "stdout",
          "text": [
            "Symmetric difference of sets A and B: {1, 2, 3, 6, 7, 8}\n"
          ]
        }
      ]
    },
    {
      "cell_type": "markdown",
      "source": [
        "74. Set Operations: Given three sets A, B, and C, write a Python program to find and print the intersection of A and B, the union of B and C, and the difference between C and A."
      ],
      "metadata": {
        "id": "I6njG1qu0sOB"
      }
    },
    {
      "cell_type": "code",
      "source": [
        "def perform_set_operations(set_A, set_B, set_C):\n",
        "    intersection_A_B = set_A.intersection(set_B)\n",
        "    union_B_C = set_B.union(set_C)\n",
        "    difference_C_A = set_C.difference(set_A)\n",
        "    return intersection_A_B, union_B_C, difference_C_A\n",
        "\n",
        "\n",
        "set_A = {1, 2, 3, 4, 5}\n",
        "set_B = {4, 5, 6, 7, 8}\n",
        "set_C = {3, 4, 5, 9, 10}\n",
        "intersection_A_B, union_B_C, difference_C_A = perform_set_operations(set_A, set_B, set_C)\n",
        "\n",
        "print(\"Intersection of sets A and B:\", intersection_A_B)\n",
        "print(\"Union of sets B and C:\", union_B_C)\n",
        "print(\"Difference of set C - set A:\", difference_C_A)"
      ],
      "metadata": {
        "colab": {
          "base_uri": "https://localhost:8080/"
        },
        "id": "RZMt4IIH0y4i",
        "outputId": "750c496b-5cc8-45d8-b25f-01fec9d2ea22"
      },
      "execution_count": null,
      "outputs": [
        {
          "output_type": "stream",
          "name": "stdout",
          "text": [
            "Intersection of sets A and B: {4, 5}\n",
            "Union of sets B and C: {3, 4, 5, 6, 7, 8, 9, 10}\n",
            "Difference of set C - set A: {9, 10}\n"
          ]
        }
      ]
    },
    {
      "cell_type": "markdown",
      "source": [
        "75. Set Subset Check: Given two sets A and B, write a Python program to check if set A is a subset of set B and print the result."
      ],
      "metadata": {
        "id": "1W0eRxqv09r6"
      }
    },
    {
      "cell_type": "code",
      "source": [
        "def check_subset(set_A, set_B):\n",
        "    is_subset = set_A.issubset(set_B)\n",
        "    return is_subset\n",
        "\n",
        "\n",
        "set_A = {1, 2, 3}\n",
        "set_B = {1, 2, 3, 4, 5}\n",
        "is_subset = check_subset(set_A, set_B)\n",
        "\n",
        "if is_subset:\n",
        "    print(\"Set A is a subset of set B.\")\n",
        "else:\n",
        "    print(\"Set A is not a subset of set B.\")"
      ],
      "metadata": {
        "colab": {
          "base_uri": "https://localhost:8080/"
        },
        "id": "Xd4fpQBJ1EOk",
        "outputId": "7970839d-b8ae-403d-812f-9c5c73887312"
      },
      "execution_count": null,
      "outputs": [
        {
          "output_type": "stream",
          "name": "stdout",
          "text": [
            "Set A is a subset of set B.\n"
          ]
        }
      ]
    },
    {
      "cell_type": "markdown",
      "source": [
        "76. Set Superset Check: Given two sets A and B, write a Python program to check if set A is a superset of set B and print the result."
      ],
      "metadata": {
        "id": "cXAsJGGQ1R-1"
      }
    },
    {
      "cell_type": "code",
      "source": [
        "def check_superset(set_A, set_B):\n",
        "    is_superset = set_A.issuperset(set_B)\n",
        "    return is_superset\n",
        "\n",
        "\n",
        "set_A = {1, 2, 3, 4, 5}\n",
        "set_B = {1, 2, 3}\n",
        "is_superset = check_superset(set_A, set_B)\n",
        "\n",
        "if is_superset:\n",
        "    print(\"Set A is a superset of set B.\")\n",
        "else:\n",
        "    print(\"Set A is not a superset of set B.\")"
      ],
      "metadata": {
        "colab": {
          "base_uri": "https://localhost:8080/"
        },
        "id": "2ixMjr5h1TJD",
        "outputId": "80bec702-963a-4358-8062-82041d34a65a"
      },
      "execution_count": null,
      "outputs": [
        {
          "output_type": "stream",
          "name": "stdout",
          "text": [
            "Set A is a superset of set B.\n"
          ]
        }
      ]
    },
    {
      "cell_type": "markdown",
      "source": [
        "77. Set Length Check: Write a Python program that takes a set as input and prints the number of elements in the set."
      ],
      "metadata": {
        "id": "E4bmut-t1aOb"
      }
    },
    {
      "cell_type": "code",
      "source": [
        "def set_length(input_set):\n",
        "    return len(input_set)\n",
        "\n",
        "\n",
        "input_set = {1, 2, 3, 4, 5}\n",
        "length = set_length(input_set)\n",
        "print(\"Number of elements in the set:\", length)"
      ],
      "metadata": {
        "colab": {
          "base_uri": "https://localhost:8080/"
        },
        "id": "NnekZLbs1gal",
        "outputId": "b5410c65-6ff1-48fd-a635-ff2682cdf41a"
      },
      "execution_count": null,
      "outputs": [
        {
          "output_type": "stream",
          "name": "stdout",
          "text": [
            "Number of elements in the set: 5\n"
          ]
        }
      ]
    },
    {
      "cell_type": "markdown",
      "source": [
        "76. Set Membership Test: Write a Python program that takes an element as input and checks if it exists in a given set. Print “Found” if the element is present and “Not Found” otherwise."
      ],
      "metadata": {
        "id": "JteCuDym1nVs"
      }
    },
    {
      "cell_type": "code",
      "source": [
        "def check_membership(input_set, element):\n",
        "    if element in input_set:\n",
        "        print(\"Found\")\n",
        "    else:\n",
        "        print(\"Not Found\")\n",
        "\n",
        "\n",
        "input_set = {1, 2, 3, 4, 5}\n",
        "element_to_check = 3\n",
        "check_membership(input_set, element_to_check)"
      ],
      "metadata": {
        "colab": {
          "base_uri": "https://localhost:8080/"
        },
        "id": "ofIacSg01tHs",
        "outputId": "3aacaec3-2c27-4da5-98f1-3c4fd90e14cd"
      },
      "execution_count": null,
      "outputs": [
        {
          "output_type": "stream",
          "name": "stdout",
          "text": [
            "Found\n"
          ]
        }
      ]
    },
    {
      "cell_type": "markdown",
      "source": [
        "77. Dictionary Manipulation: Given a dictionary with student names as keys and their corresponding scores as values, write a Python program to add a new student to the dictionary and update the score of an existing student."
      ],
      "metadata": {
        "id": "v3aMUzK319k0"
      }
    },
    {
      "cell_type": "code",
      "source": [
        "def update_scores(student_scores, student_name, new_score):\n",
        "    student_scores[student_name] = new_score\n",
        "    return student_scores\n",
        "\n",
        "\n",
        "student_scores = {'Aunto': 90, 'Boby': 85, 'shakib': 95}\n",
        "\n",
        "\n",
        "student_scores = update_scores(student_scores, 'David', 88)\n",
        "student_scores = update_scores(student_scores, 'Aunto', 92)\n",
        "\n",
        "print(\"Updated student scores:\", student_scores)"
      ],
      "metadata": {
        "colab": {
          "base_uri": "https://localhost:8080/"
        },
        "id": "QeU0J4lG1-4y",
        "outputId": "e464b5d2-6d11-40cd-cb6f-14d0be91f3b3"
      },
      "execution_count": null,
      "outputs": [
        {
          "output_type": "stream",
          "name": "stdout",
          "text": [
            "Updated student scores: {'Aunto': 92, 'Boby': 85, 'shakib': 95, 'David': 88}\n"
          ]
        }
      ]
    },
    {
      "cell_type": "markdown",
      "source": [
        "78. Dictionary Keys and Values: Write a Python program that takes a dictionary as input and prints all the keys and values in separate lines."
      ],
      "metadata": {
        "id": "uHAxjs_s2eNi"
      }
    },
    {
      "cell_type": "code",
      "source": [
        "def print_keys_and_values(input_dict):\n",
        "    for key in input_dict.keys():\n",
        "        print(key)\n",
        "    print(\"-----\")\n",
        "    for value in input_dict.values():\n",
        "        print(value)\n",
        "\n",
        "\n",
        "input_dict = {'a': 1, 'b': 2, 'c': 3}\n",
        "print_keys_and_values(input_dict)"
      ],
      "metadata": {
        "colab": {
          "base_uri": "https://localhost:8080/"
        },
        "id": "ViR45ap02knU",
        "outputId": "f833d682-37a1-4a4d-b811-a7113f1d426b"
      },
      "execution_count": null,
      "outputs": [
        {
          "output_type": "stream",
          "name": "stdout",
          "text": [
            "a\n",
            "b\n",
            "c\n",
            "-----\n",
            "1\n",
            "2\n",
            "3\n"
          ]
        }
      ]
    },
    {
      "cell_type": "markdown",
      "source": [
        "79. Dictionary Length: Write a Python program to calculate and print the number of key-value pairs in a given dictionary."
      ],
      "metadata": {
        "id": "XD5eE7Z92rka"
      }
    },
    {
      "cell_type": "code",
      "source": [
        "def dictionary_length(input_dict):\n",
        "    return len(input_dict)\n",
        "\n",
        "\n",
        "input_dict = {'a': 1, 'b': 2, 'c': 3}\n",
        "length = dictionary_length(input_dict)\n",
        "print(\"Number of key-value pairs in the dictionary:\", length)"
      ],
      "metadata": {
        "colab": {
          "base_uri": "https://localhost:8080/"
        },
        "id": "smwM9lKe2x7S",
        "outputId": "4edbc935-e34a-49a1-f198-5c15d62b273d"
      },
      "execution_count": null,
      "outputs": [
        {
          "output_type": "stream",
          "name": "stdout",
          "text": [
            "Number of key-value pairs in the dictionary: 3\n"
          ]
        }
      ]
    },
    {
      "cell_type": "markdown",
      "source": [
        "80. Dictionary Value Search: Given a dictionary of items and their prices, write a Python program to search for an item based on its price and print the item’s name."
      ],
      "metadata": {
        "id": "0lcm77Gk25SR"
      }
    },
    {
      "cell_type": "code",
      "source": [
        "def search_item_by_price(items_dict, price):\n",
        "    for item, item_price in items_dict.items():\n",
        "        if item_price == price:\n",
        "            return item\n",
        "    return None\n",
        "\n",
        "\n",
        "items_prices = {'apple': 2, 'banana': 3, 'orange': 2.5}\n",
        "price_to_search = 3\n",
        "item_name = search_item_by_price(items_prices, price_to_search)\n",
        "\n",
        "if item_name:\n",
        "    print(f\"Item with price {price_to_search} found: {item_name}\")\n",
        "else:\n",
        "    print(f\"No item found with price {price_to_search}\")"
      ],
      "metadata": {
        "colab": {
          "base_uri": "https://localhost:8080/"
        },
        "id": "Ehnv2YWb2_nj",
        "outputId": "f5db9af8-7ca6-44e1-8ba9-b580ea0c7da1"
      },
      "execution_count": null,
      "outputs": [
        {
          "output_type": "stream",
          "name": "stdout",
          "text": [
            "Item with price 3 found: banana\n"
          ]
        }
      ]
    },
    {
      "cell_type": "markdown",
      "source": [
        "81. Dictionary Merging: Given two dictionaries, write a Python program to merge them into a single dictionary and print the result."
      ],
      "metadata": {
        "id": "7Fj8SMUT3Fw6"
      }
    },
    {
      "cell_type": "code",
      "source": [
        "def merge_dictionaries(dict1, dict2):\n",
        "    merged_dict = dict1.copy()\n",
        "    merged_dict.update(dict2)\n",
        "    return merged_dict\n",
        "\n",
        "dict1 = {'a': 1, 'b': 2}\n",
        "dict2 = {'c': 3, 'd': 4}\n",
        "merged_dict = merge_dictionaries(dict1, dict2)\n",
        "print(\"Merged dictionary:\", merged_dict)"
      ],
      "metadata": {
        "colab": {
          "base_uri": "https://localhost:8080/"
        },
        "id": "-6vztFoz3LPK",
        "outputId": "24e7df75-ff7b-446d-c306-1a2aa3910898"
      },
      "execution_count": null,
      "outputs": [
        {
          "output_type": "stream",
          "name": "stdout",
          "text": [
            "Merged dictionary: {'a': 1, 'b': 2, 'c': 3, 'd': 4}\n"
          ]
        }
      ]
    },
    {
      "cell_type": "markdown",
      "source": [
        "82. Dictionary Key Removal: Given a dictionary of items and their quantities, write a Python program to remove a specific item from the dictionary based on user input."
      ],
      "metadata": {
        "id": "BRplWItg3S9t"
      }
    },
    {
      "cell_type": "code",
      "source": [
        "def remove_item_by_name(items_dict, item_name):\n",
        "    if item_name in items_dict:\n",
        "        items_dict.pop(item_name)\n",
        "        print(f\"{item_name} removed from the dictionary.\")\n",
        "    else:\n",
        "        print(f\"{item_name} not found in the dictionary.\")\n",
        "\n",
        "\n",
        "items_quantities = {'apple': 10, 'banana': 5, 'orange': 8}\n",
        "\n",
        "item_to_remove = input(\"Enter the name of the item to remove: \")\n",
        "remove_item_by_name(items_quantities, item_to_remove)\n",
        "print(\"Updated dictionary:\", items_quantities)"
      ],
      "metadata": {
        "colab": {
          "base_uri": "https://localhost:8080/"
        },
        "id": "pKThZu3o3YJ-",
        "outputId": "4091adcd-7d16-4298-9b40-dc9843fe4a0c"
      },
      "execution_count": null,
      "outputs": [
        {
          "output_type": "stream",
          "name": "stdout",
          "text": [
            "Enter the name of the item to remove: apple\n",
            "apple removed from the dictionary.\n",
            "Updated dictionary: {'banana': 5, 'orange': 8}\n"
          ]
        }
      ]
    },
    {
      "cell_type": "markdown",
      "source": [
        "\n",
        "**83. Dictionary Sorting: Given a dictionary with names as keys and corresponding ages as values, write a Python program to sort the dictionary based on age in ascending order.**"
      ],
      "metadata": {
        "id": "GbvuiTcFYwZy"
      }
    },
    {
      "cell_type": "code",
      "source": [
        "people = {\n",
        "    'Aunto': 30,\n",
        "    'Boby': 25,\n",
        "    'shakib': 35,\n",
        "    'David': 20\n",
        "}\n",
        "\n",
        "sorted_people = dict(sorted(people.items(), key=lambda item: item[1]))\n",
        "\n",
        "\n",
        "print(sorted_people)"
      ],
      "metadata": {
        "colab": {
          "base_uri": "https://localhost:8080/"
        },
        "id": "6e5qwtZwY-9f",
        "outputId": "de6f2c30-5da3-4c8f-d83f-0485d30e5961"
      },
      "execution_count": null,
      "outputs": [
        {
          "output_type": "stream",
          "name": "stdout",
          "text": [
            "{'David': 20, 'Boby': 25, 'Aunto': 30, 'shakib': 35}\n"
          ]
        }
      ]
    },
    {
      "cell_type": "markdown",
      "source": [
        "**84. Dictionary Frequency Count: Write a Python program that takes a string as input and creates a dictionary containing each character as a key and its frequency as the value.**"
      ],
      "metadata": {
        "id": "zmLMW4T1ZteS"
      }
    },
    {
      "cell_type": "code",
      "source": [
        "def char_frequency_count(input_string):\n",
        "\n",
        "    frequency_dict = {}\n",
        "\n",
        "    for char in input_string:\n",
        "\n",
        "        if char in frequency_dict:\n",
        "            frequency_dict[char] += 1\n",
        "        else:\n",
        "            frequency_dict[char] = 1\n",
        "\n",
        "    return frequency_dict\n",
        "\n",
        "\n",
        "input_string = \"hello world\"\n",
        "frequency_dict = char_frequency_count(input_string)\n",
        "\n",
        "print(frequency_dict)"
      ],
      "metadata": {
        "colab": {
          "base_uri": "https://localhost:8080/"
        },
        "id": "tyM0cMhoZ26o",
        "outputId": "b5a0af14-69d2-4f1d-bccf-8704107152ac"
      },
      "execution_count": null,
      "outputs": [
        {
          "output_type": "stream",
          "name": "stdout",
          "text": [
            "{'h': 1, 'e': 1, 'l': 3, 'o': 2, ' ': 1, 'w': 1, 'r': 1, 'd': 1}\n"
          ]
        }
      ]
    },
    {
      "cell_type": "markdown",
      "source": [
        "**85. Dictionary Comprehension: Given a list of integers, write a Python program to create a dictionary where the keys are the elements from the list, and the values are their squares.**"
      ],
      "metadata": {
        "id": "qvAqmIHzaH65"
      }
    },
    {
      "cell_type": "code",
      "source": [
        "numbers = [1, 2, 3, 4, 5]\n",
        "\n",
        "squares_dict = {num: num**2 for num in numbers}\n",
        "\n",
        "\n",
        "print(squares_dict)"
      ],
      "metadata": {
        "colab": {
          "base_uri": "https://localhost:8080/"
        },
        "id": "YnaT-UGBaRPe",
        "outputId": "5ca6f16d-ea48-42cf-9093-cbf941e1f9c7"
      },
      "execution_count": null,
      "outputs": [
        {
          "output_type": "stream",
          "name": "stdout",
          "text": [
            "{1: 1, 2: 4, 3: 9, 4: 16, 5: 25}\n"
          ]
        }
      ]
    },
    {
      "cell_type": "markdown",
      "source": [
        "**86. Dictionary Key Check: Write a Python program that takes a key as input and checks if it exists in a given dictionary. Print “Key Found” if the key is present and “Key Not Found” otherwise.**"
      ],
      "metadata": {
        "id": "dxrBH46Ba510"
      }
    },
    {
      "cell_type": "code",
      "source": [
        "sample_dict = {\n",
        "    'name': 'Baby',\n",
        "    'age': 30,\n",
        "    'city': 'Dhaka'\n",
        "}\n",
        "\n",
        "def check_key_in_dict(dictionary, key):\n",
        "    if key in dictionary:\n",
        "        print(\"Key Found\")\n",
        "    else:\n",
        "        print(\"Key Not Found\")\n",
        "\n",
        "\n",
        "input_key = input(\"Enter the key to check: \")\n",
        "\n",
        "\n",
        "check_key_in_dict(sample_dict, input_key)"
      ],
      "metadata": {
        "colab": {
          "base_uri": "https://localhost:8080/"
        },
        "id": "TQp-T2RQa_UJ",
        "outputId": "70905608-44e0-48d5-83a4-7367b7d44185"
      },
      "execution_count": null,
      "outputs": [
        {
          "output_type": "stream",
          "name": "stdout",
          "text": [
            "Enter the key to check: 65\n",
            "Key Not Found\n"
          ]
        }
      ]
    },
    {
      "cell_type": "markdown",
      "source": [
        "87. Access Nested Dictionary: Given a nested dictionary containing student details, write a Python program to access and print specific information such as a student’s name, age, and address."
      ],
      "metadata": {
        "id": "MYAUMJDMbaDB"
      }
    },
    {
      "cell_type": "code",
      "source": [
        "students = {\n",
        "    'student1': {\n",
        "        'name': 'Aunto',\n",
        "        'age': 27,\n",
        "        'address': {\n",
        "            'street': '10/22 Dhonia',\n",
        "            'city': 'Nuakhali',\n",
        "            'zip': '10001'\n",
        "        }\n",
        "    },\n",
        "    'student2': {\n",
        "        'name': 'Baby',\n",
        "        'age': 27,\n",
        "        'address': {\n",
        "            'street': '9/22 Dhonia',\n",
        "            'city': 'Dhaka',\n",
        "            'zip': '90001'\n",
        "        }\n",
        "    }\n",
        "}\n",
        "\n",
        "def print_student_info(student_id):\n",
        "    if student_id in students:\n",
        "        student = students[student_id]\n",
        "        name = student.get('name', 'N/A')\n",
        "        age = student.get('age', 'N/A')\n",
        "        address = student.get('address', {})\n",
        "        street = address.get('street', 'N/A')\n",
        "        city = address.get('city', 'N/A')\n",
        "        zip_code = address.get('zip', 'N/A')\n",
        "\n",
        "        print(f\"Name: {name}\")\n",
        "        print(f\"Age: {age}\")\n",
        "        print(f\"Address: {street}, {city}, {zip_code}\")\n",
        "    else:\n",
        "        print(\"Student ID not found.\")\n",
        "\n",
        "\n",
        "print_student_info('student1')\n",
        "print_student_info('student2')"
      ],
      "metadata": {
        "colab": {
          "base_uri": "https://localhost:8080/"
        },
        "id": "T3fSZtJUbgOB",
        "outputId": "49cf26a6-5eb1-4c46-dc4d-d2d19152f69d"
      },
      "execution_count": null,
      "outputs": [
        {
          "output_type": "stream",
          "name": "stdout",
          "text": [
            "Name: Aunto\n",
            "Age: 27\n",
            "Address: 10/22 Dhonia, Nuakhali, 10001\n",
            "Name: Baby\n",
            "Age: 27\n",
            "Address: 9/22 Dhonia, Dhaka, 90001\n"
          ]
        }
      ]
    },
    {
      "cell_type": "markdown",
      "source": [
        "**88. Nested Dictionary Length: Write a Python program to calculate and print the total number of key-value pairs in a nested dictionary.**"
      ],
      "metadata": {
        "id": "EcDZYV69coGh"
      }
    },
    {
      "cell_type": "code",
      "source": [
        "def count_key_value_pairs(d):\n",
        "    count = 0\n",
        "    for key, value in d.items():\n",
        "        count += 1\n",
        "        if isinstance(value, dict):\n",
        "            count += count_key_value_pairs(value)\n",
        "    return count\n",
        "\n",
        "\n",
        "nested_dict = {\n",
        "    'a': 1,\n",
        "    'b': {\n",
        "        'c': 2,\n",
        "        'd': {\n",
        "            'e': 3,\n",
        "            'f': 4\n",
        "        }\n",
        "    },\n",
        "    'g': 5\n",
        "}\n",
        "\n",
        "total_pairs = count_key_value_pairs(nested_dict)\n",
        "\n",
        "\n",
        "print(f\"Total number of key-value pairs: {total_pairs}\")"
      ],
      "metadata": {
        "colab": {
          "base_uri": "https://localhost:8080/"
        },
        "id": "IYGiRqAFcuuz",
        "outputId": "8144db97-13a2-4eb8-db38-9cd4ceffda36"
      },
      "execution_count": null,
      "outputs": [
        {
          "output_type": "stream",
          "name": "stdout",
          "text": [
            "Total number of key-value pairs: 7\n"
          ]
        }
      ]
    },
    {
      "cell_type": "markdown",
      "source": [
        "**89. Nested Dictionary Update: Given a nested dictionary of employee details, write a Python program to update an employee’s salary based on their employee ID.**"
      ],
      "metadata": {
        "id": "0hxFfU17d74R"
      }
    },
    {
      "cell_type": "code",
      "source": [
        "employees = {\n",
        "    'emp1': {\n",
        "        'name': 'Aunto',\n",
        "        'age': 27,\n",
        "        'salary': 50000,\n",
        "        'department': 'HR'\n",
        "    },\n",
        "    'emp2': {\n",
        "        'name': 'Baby',\n",
        "        'age': 28,\n",
        "        'salary': 60000,\n",
        "        'department': 'Engineering'\n",
        "    },\n",
        "    'emp3': {\n",
        "        'name': 'Shakib',\n",
        "        'age': 25,\n",
        "        'salary': 70000,\n",
        "        'department': 'Finance'\n",
        "    }\n",
        "}\n",
        "def update_employee_salary(emp_dict, emp_id, new_salary):\n",
        "    if emp_id in emp_dict:\n",
        "        emp_dict[emp_id]['salary'] = new_salary\n",
        "        print(f\"Salary for {emp_dict[emp_id]['name']} updated to {new_salary}.\")\n",
        "    else:\n",
        "        print(f\"Employee ID {emp_id} not found.\")\n",
        "\n",
        "\n",
        "update_employee_salary(employees, 'emp2', 65000)\n",
        "update_employee_salary(employees, 'emp4', 75000)\n",
        "\n",
        "\n",
        "print(employees)"
      ],
      "metadata": {
        "colab": {
          "base_uri": "https://localhost:8080/"
        },
        "id": "3T6YO50EeKFQ",
        "outputId": "0c0e1c09-c3bd-43d6-9781-3dce80d2afa3"
      },
      "execution_count": null,
      "outputs": [
        {
          "output_type": "stream",
          "name": "stdout",
          "text": [
            "Salary for Baby updated to 65000.\n",
            "Employee ID emp4 not found.\n",
            "{'emp1': {'name': 'Aunto', 'age': 27, 'salary': 50000, 'department': 'HR'}, 'emp2': {'name': 'Baby', 'age': 28, 'salary': 65000, 'department': 'Engineering'}, 'emp3': {'name': 'Shakib', 'age': 25, 'salary': 70000, 'department': 'Finance'}}\n"
          ]
        }
      ]
    },
    {
      "cell_type": "markdown",
      "source": [
        "**90. Nested Dictionary Sorting: Given a nested dictionary containing product details (product name, price, and quantity), write a Python program to sort the products based on their prices in ascending order.**"
      ],
      "metadata": {
        "id": "5OZtXGLGezeS"
      }
    },
    {
      "cell_type": "code",
      "source": [
        "products = {\n",
        "    'product1': {\n",
        "        'name': 'Laptop',\n",
        "        'price': 1200,\n",
        "        'quantity': 5\n",
        "    },\n",
        "    'product2': {\n",
        "        'name': 'Smartphone',\n",
        "        'price': 800,\n",
        "        'quantity': 10\n",
        "    },\n",
        "    'product3': {\n",
        "        'name': 'Tablet',\n",
        "        'price': 600,\n",
        "        'quantity': 7\n",
        "    },\n",
        "    'product4': {\n",
        "        'name': 'Monitor',\n",
        "        'price': 300,\n",
        "        'quantity': 15\n",
        "    }\n",
        "}\n",
        "def sort_products_by_price(product_dict):\n",
        "\n",
        "    sorted_items = sorted(product_dict.items(), key=lambda item: item[1]['price'])\n",
        "\n",
        "    sorted_dict = {k: v for k, v in sorted_items}\n",
        "    return sorted_dict\n",
        "\n",
        "sorted_products = sort_products_by_price(products)\n",
        "\n",
        "print(sorted_products)"
      ],
      "metadata": {
        "colab": {
          "base_uri": "https://localhost:8080/"
        },
        "id": "ks0jG0-8fMqx",
        "outputId": "a71eef9f-4e46-49b6-c75f-d3f76590b9cf"
      },
      "execution_count": null,
      "outputs": [
        {
          "output_type": "stream",
          "name": "stdout",
          "text": [
            "{'product4': {'name': 'Monitor', 'price': 300, 'quantity': 15}, 'product3': {'name': 'Tablet', 'price': 600, 'quantity': 7}, 'product2': {'name': 'Smartphone', 'price': 800, 'quantity': 10}, 'product1': {'name': 'Laptop', 'price': 1200, 'quantity': 5}}\n"
          ]
        }
      ]
    },
    {
      "cell_type": "markdown",
      "source": [
        "**91. Nested Dictionary Key Search: Write a Python program that takes a key as input and searches for it in a nested dictionary. If found, print the corresponding value, otherwise, print “Key Not Found.”**"
      ],
      "metadata": {
        "id": "sjh2cIDngR3B"
      }
    },
    {
      "cell_type": "code",
      "source": [
        "nested_dict = {\n",
        "    'person1': {\n",
        "        'name': 'Aunto',\n",
        "        'details': {\n",
        "            'age': 27,\n",
        "            'address': {\n",
        "                'city': 'Nuakhali',\n",
        "                'zipcode': '10001'\n",
        "            }\n",
        "        }\n",
        "    },\n",
        "    'person2': {\n",
        "        'name': 'Baby',\n",
        "        'details': {\n",
        "            'age': 28,\n",
        "            'address': {\n",
        "                'city': 'Dhaka',\n",
        "                'zipcode': '90001'\n",
        "            }\n",
        "        }\n",
        "    }\n",
        "}\n",
        "def search_key_in_nested_dict(d, key):\n",
        "    if key in d:\n",
        "        return d[key]\n",
        "    for k, v in d.items():\n",
        "        if isinstance(v, dict):\n",
        "            result = search_key_in_nested_dict(v, key)\n",
        "            if result is not None:\n",
        "                return result\n",
        "    return None\n",
        "\n",
        "input_key = input(\"Enter the key to search: \")\n",
        "y\n",
        "result = search_key_in_nested_dict(nested_dict, input_key)\n",
        "\n",
        "if result is not None:\n",
        "    print(f\"Value for '{input_key}': {result}\")\n",
        "else:\n",
        "    print(\"Key Not Found\")"
      ],
      "metadata": {
        "colab": {
          "base_uri": "https://localhost:8080/"
        },
        "id": "imloV0vygWcg",
        "outputId": "5cd5ad5d-8488-40ee-e9d4-5a50eaf41f7d"
      },
      "execution_count": null,
      "outputs": [
        {
          "output_type": "stream",
          "name": "stdout",
          "text": [
            "Enter the key to search: baby\n",
            "Key Not Found\n"
          ]
        }
      ]
    },
    {
      "cell_type": "markdown",
      "source": [
        "92. Prime Number Checker: Write a Python program that takes a number as input and determines if it is a prime number or not. Use a `for` loop to check for factors. If a factor is found, `break` out of the loop."
      ],
      "metadata": {
        "id": "tcpVSOj_hEU2"
      }
    },
    {
      "cell_type": "code",
      "source": [
        "def is_prime(number):\n",
        "\n",
        "    if number <= 1:\n",
        "        return False\n",
        "    for i in range(2, int(number ** 0.5) + 1):\n",
        "        if number % i == 0:\n",
        "            return False\n",
        "    return True\n",
        "\n",
        "input_number = int(input(\"Enter a number to check if it is prime: \"))\n",
        "\n",
        "if is_prime(input_number):\n",
        "    print(f\"{input_number} is a prime number.\")\n",
        "else:\n",
        "    print(f\"{input_number} is not a prime number.\")"
      ],
      "metadata": {
        "colab": {
          "base_uri": "https://localhost:8080/"
        },
        "id": "nMXZ0hWphvNJ",
        "outputId": "bb8022ed-4011-4e56-fd20-fee110871df8"
      },
      "execution_count": null,
      "outputs": [
        {
          "output_type": "stream",
          "name": "stdout",
          "text": [
            "Enter a number to check if it is prime: 5\n",
            "5 is a prime number.\n"
          ]
        }
      ]
    },
    {
      "cell_type": "markdown",
      "source": [
        "93. Even Number Printer: Write a Python program to print all even numbers from 1 to 20. Use a `for` loop and `continue` to skip odd numbers."
      ],
      "metadata": {
        "id": "yRP1tYsuh1MT"
      }
    },
    {
      "cell_type": "code",
      "source": [
        "for num in range(1, 21):\n",
        "\n",
        "    if num % 2 != 0:\n",
        "        continue\n",
        "    print(num)"
      ],
      "metadata": {
        "colab": {
          "base_uri": "https://localhost:8080/"
        },
        "id": "OFCS5MNIh-Bk",
        "outputId": "8db7ba9f-cb50-4241-b4ad-df714d3148ee"
      },
      "execution_count": null,
      "outputs": [
        {
          "output_type": "stream",
          "name": "stdout",
          "text": [
            "2\n",
            "4\n",
            "6\n",
            "8\n",
            "10\n",
            "12\n",
            "14\n",
            "16\n",
            "18\n",
            "20\n"
          ]
        }
      ]
    },
    {
      "cell_type": "markdown",
      "source": [
        "94. Password Validator: Write a Python program that takes a password as input and checks if it meets the following criteria: at least 8 characters long, contains both uppercase and lowercase letters, and has at least one digit. If the password is valid, print “Password accepted.” If not, use `continue` to prompt the user to enter a valid password."
      ],
      "metadata": {
        "id": "rwJMI9Gbihki"
      }
    },
    {
      "cell_type": "code",
      "source": [
        "import re\n",
        "\n",
        "import re\n",
        "\n",
        "def is_valid_password(password):\n",
        "    if len(password) < 8:\n",
        "        return False\n",
        "    if not re.search(r'[A-Z]', password):\n",
        "        return False\n",
        "    if not re.search(r'[a-z]', password):\n",
        "        return False\n",
        "    if not re.search(r'\\d', password):\n",
        "        return False\n",
        "    return True\n",
        "\n",
        "while True:\n",
        "    password = input(\"Enter your password: \")\n",
        "\n",
        "    if is_valid_password(password):\n",
        "        print(\"Password accepted.\")\n",
        "        break\n",
        "    else:\n",
        "        print(\"Password must be at least 8 characters long, contain both uppercase and lowercase letters, and have at least one digit.\")"
      ],
      "metadata": {
        "colab": {
          "base_uri": "https://localhost:8080/"
        },
        "id": "xMg4ngdPitS5",
        "outputId": "6d9048b0-d151-403d-e14f-2fcfc0d88722"
      },
      "execution_count": null,
      "outputs": [
        {
          "output_type": "stream",
          "name": "stdout",
          "text": [
            "Enter your password: 1234Ab35\n",
            "Password accepted.\n"
          ]
        }
      ]
    },
    {
      "cell_type": "markdown",
      "source": [
        "95. Divisible by 3 or 5: Write a Python program to print all numbers from 1 to 50 that are divisible by either 3 or 5. Use a `for` loop and `continue` to skip numbers that are not divisible by either 3 or 5."
      ],
      "metadata": {
        "id": "Q7qHaCpZjiwj"
      }
    },
    {
      "cell_type": "code",
      "source": [
        "for i in range(1, 51):\n",
        "    if i % 3 != 0 and i % 5 != 0:\n",
        "        continue\n",
        "    print(i)"
      ],
      "metadata": {
        "id": "MTpCS3LKjqDO",
        "colab": {
          "base_uri": "https://localhost:8080/"
        },
        "outputId": "48dc1531-e0ad-4b25-e871-aae63668e423"
      },
      "execution_count": null,
      "outputs": [
        {
          "output_type": "stream",
          "name": "stdout",
          "text": [
            "3\n",
            "5\n",
            "6\n",
            "9\n",
            "10\n",
            "12\n",
            "15\n",
            "18\n",
            "20\n",
            "21\n",
            "24\n",
            "25\n",
            "27\n",
            "30\n",
            "33\n",
            "35\n",
            "36\n",
            "39\n",
            "40\n",
            "42\n",
            "45\n",
            "48\n",
            "50\n"
          ]
        }
      ]
    },
    {
      "cell_type": "markdown",
      "source": [
        "**96. Positive Number Sum: Write a Python program that takes positive numbers as input until a negative number is entered. Then, calculate and print the sum of all positive numbers entered. Use a `while` loop and `break` to exit the loop when a negative number is encountered.**"
      ],
      "metadata": {
        "id": "9CLH8Rx7_yYP"
      }
    },
    {
      "cell_type": "code",
      "source": [
        "sum_positive = 0\n",
        "\n",
        "while True:\n",
        "    number = float(input(\"Enter a positive number (or a negative number to stop): \"))\n",
        "    if number < 0:\n",
        "        break\n",
        "    sum_positive += number\n",
        "\n",
        "print(\"Sum of all positive numbers entered:\", sum_positive)"
      ],
      "metadata": {
        "colab": {
          "base_uri": "https://localhost:8080/"
        },
        "id": "H4-IzaEWABGk",
        "outputId": "aa02f5d5-6a4c-42a4-deb1-b6e01abeca62"
      },
      "execution_count": null,
      "outputs": [
        {
          "output_type": "stream",
          "name": "stdout",
          "text": [
            "Enter a positive number (or a negative number to stop): 22\n",
            "Enter a positive number (or a negative number to stop): 11\n",
            "Enter a positive number (or a negative number to stop): 4\n",
            "Enter a positive number (or a negative number to stop): 3\n",
            "Enter a positive number (or a negative number to stop): -2\n",
            "Sum of all positive numbers entered: 40.0\n"
          ]
        }
      ]
    },
    {
      "cell_type": "markdown",
      "source": [
        "**97. Word Palindrome Checker: Write a Python program that takes a word as input and checks if it is a palindrome (reads the same forwards and backward). Use `continue` to skip checking the word if its length is less than 3 characters.**"
      ],
      "metadata": {
        "id": "W6t3NG72AVGP"
      }
    },
    {
      "cell_type": "code",
      "source": [
        "while True:\n",
        "    word = input(\"Enter a word (or 'exit' to stop): \")\n",
        "\n",
        "    if word == 'exit':\n",
        "        break\n",
        "\n",
        "    if len(word) < 3:\n",
        "        print(\"Word is too short to check for palindrome. Please enter a word with at least 3 characters.\")\n",
        "        continue\n",
        "\n",
        "    if word == word[::-1]:\n",
        "        print(f\"'{word}' is a palindrome.\")\n",
        "    else:\n",
        "        print(f\"'{word}' is not a palindrome.\")"
      ],
      "metadata": {
        "colab": {
          "base_uri": "https://localhost:8080/"
        },
        "id": "mjxUSrWjAeU9",
        "outputId": "1317b163-69d3-4bca-c08b-09de782f1cf1"
      },
      "execution_count": null,
      "outputs": [
        {
          "name": "stdout",
          "output_type": "stream",
          "text": [
            "Enter a word (or 'exit' to stop): hi\n",
            "Word is too short to check for palindrome. Please enter a word with at least 3 characters.\n",
            "Enter a word (or 'exit' to stop): exit\n"
          ]
        }
      ]
    },
    {
      "cell_type": "markdown",
      "source": [
        "**98. Odd Number Finder: Write a Python program to find the first odd number from a list of integers. Use a `for` loop and `break` to stop the loop when the first odd number is found.**"
      ],
      "metadata": {
        "id": "0dtxi4JpBWeu"
      }
    },
    {
      "cell_type": "code",
      "source": [
        "def find_first_odd(numbers):\n",
        "    for number in numbers:\n",
        "        if number % 2 != 0:\n",
        "            return number\n",
        "    return None\n",
        "\n",
        "\n",
        "numbers = [2, 4, 6, 8, 10, 11, 14, 16]\n",
        "\n",
        "\n",
        "first_odd = find_first_odd(numbers)\n",
        "\n",
        "if first_odd is not None:\n",
        "    print(f\"The first odd number is: {first_odd}\")\n",
        "else:\n",
        "    print(\"There are no odd numbers in the list.\")"
      ],
      "metadata": {
        "colab": {
          "base_uri": "https://localhost:8080/"
        },
        "id": "XMbdj5BXBeum",
        "outputId": "f1dd622e-142d-49a1-d0db-d06682310fca"
      },
      "execution_count": null,
      "outputs": [
        {
          "output_type": "stream",
          "name": "stdout",
          "text": [
            "The first odd number is: 11\n"
          ]
        }
      ]
    },
    {
      "cell_type": "markdown",
      "source": [
        "**99. Number Guessing Game: Write a Python program that generates a random number between 1 and 100 and lets the user guess the number. Use a `while` loop, `break` when the correct number is guessed, and `continue` to keep prompting the user until they guess correctly.**"
      ],
      "metadata": {
        "id": "0d_Xb786Bhvt"
      }
    },
    {
      "cell_type": "code",
      "source": [
        "import random\n",
        "\n",
        "target_number = random.randint(1, 100)\n",
        "\n",
        "while True:\n",
        "    guess = input(\"Guess the number between 1 and 100 (or type 'exit' to quit): \")\n",
        "\n",
        "    if guess.lower() == 'exit':\n",
        "        print(f\"The target number was {target_number}. Better luck next time!\")\n",
        "        break\n",
        "\n",
        "    try:\n",
        "        guess = int(guess)\n",
        "    except ValueError:\n",
        "        print(\"Please enter a valid number.\")\n",
        "        continue\n",
        "\n",
        "    if guess < 1 or guess > 100:\n",
        "        print(\"Your guess is out of bounds. Please guess a number between 1 and 100.\")\n",
        "        continue\n",
        "\n",
        "    if guess < target_number:\n",
        "        print(\"Too low! Try again.\")\n",
        "    elif guess > target_number:\n",
        "        print(\"Too high! Try again.\")\n",
        "    else:\n",
        "        print(f\"Congratulations! You guessed the correct number: {target_number}\")\n",
        "        break"
      ],
      "metadata": {
        "colab": {
          "base_uri": "https://localhost:8080/"
        },
        "id": "LybpQwAjB1iv",
        "outputId": "a980377b-7bdd-4f7a-d9f2-087cdf1f512c"
      },
      "execution_count": null,
      "outputs": [
        {
          "output_type": "stream",
          "name": "stdout",
          "text": [
            "Guess the number between 1 and 100 (or type 'exit' to quit): 50\n",
            "Too low! Try again.\n",
            "Guess the number between 1 and 100 (or type 'exit' to quit): 60\n",
            "Too low! Try again.\n",
            "Guess the number between 1 and 100 (or type 'exit' to quit): 80\n",
            "Too low! Try again.\n",
            "Guess the number between 1 and 100 (or type 'exit' to quit): 99\n",
            "Too high! Try again.\n",
            "Guess the number between 1 and 100 (or type 'exit' to quit): 90\n",
            "Too low! Try again.\n",
            "Guess the number between 1 and 100 (or type 'exit' to quit): 95\n",
            "Too low! Try again.\n",
            "Guess the number between 1 and 100 (or type 'exit' to quit): 98\n",
            "Too high! Try again.\n",
            "Guess the number between 1 and 100 (or type 'exit' to quit): 97\n",
            "Congratulations! You guessed the correct number: 97\n"
          ]
        }
      ]
    },
    {
      "cell_type": "markdown",
      "source": [
        "**100. Vowel Counter: Write a Python program that takes a string as input and counts the number of vowels (a, e, i, o, u) in it. Use a `for` loop and `continue` to skip counting non-vowel characters.**"
      ],
      "metadata": {
        "id": "X9VuyS5TCSvx"
      }
    },
    {
      "cell_type": "code",
      "source": [
        "def count_vowels(string):\n",
        "    vowels = 'aeiouAEIOU'\n",
        "    vowel_count = 0\n",
        "\n",
        "    for char in string:\n",
        "        if char not in vowels:\n",
        "            continue\n",
        "        vowel_count += 1\n",
        "\n",
        "    return vowel_count\n",
        "\n",
        "\n",
        "input_string = input(\"Enter a string: \")\n",
        "print(\"Number of vowels:\", count_vowels(input_string))\n"
      ],
      "metadata": {
        "colab": {
          "base_uri": "https://localhost:8080/"
        },
        "id": "r3dJ0Yy3CoG8",
        "outputId": "8edf96ed-569b-4b36-9dde-bed3e79bca8c"
      },
      "execution_count": null,
      "outputs": [
        {
          "output_type": "stream",
          "name": "stdout",
          "text": [
            "Enter a string: a\n",
            "Number of vowels: 1\n"
          ]
        }
      ]
    },
    {
      "cell_type": "markdown",
      "source": [
        "**101. Unique Characters: Write a Python program that takes a string as input and checks if it contains all unique characters (no character repeats). Use a `for` loop and `break` when a character repeats.**"
      ],
      "metadata": {
        "id": "jxm1Oxu4O0jv"
      }
    },
    {
      "cell_type": "code",
      "source": [
        "def has_unique_characters(s):\n",
        "    seen_characters = set()\n",
        "\n",
        "    for char in s:\n",
        "        if char in seen_characters:\n",
        "            return False\n",
        "        seen_characters.add(char)\n",
        "\n",
        "    return True\n",
        "\n",
        "\n",
        "input_string = \"abcdefg\"\n",
        "print(f\"Does '{input_string}' have all unique characters? {has_unique_characters(input_string)}\")\n",
        "\n",
        "input_string = \"hello\"\n",
        "print(f\"Does '{input_string}' have all unique characters? {has_unique_characters(input_string)}\")"
      ],
      "metadata": {
        "colab": {
          "base_uri": "https://localhost:8080/"
        },
        "id": "Y9pVBN5PPZvV",
        "outputId": "ccb743de-9b4c-4882-ae6e-8ee4b5f72bc7"
      },
      "execution_count": null,
      "outputs": [
        {
          "output_type": "stream",
          "name": "stdout",
          "text": [
            "Does 'abcdefg' have all unique characters? True\n",
            "Does 'hello' have all unique characters? False\n"
          ]
        }
      ]
    },
    {
      "cell_type": "markdown",
      "source": [
        "**102. Factorial Calculator: Write a Python function called `factorial` that takes an integer as input and returns its factorial. Test the function with different values.**"
      ],
      "metadata": {
        "id": "aduXbyseQEXR"
      }
    },
    {
      "cell_type": "code",
      "source": [
        "def factorial(n):\n",
        "    \"\"\"\n",
        "    Calculate the factorial of a non-negative integer n.\n",
        "    If n is negative, raise a ValueError.\n",
        "    \"\"\"\n",
        "    if n < 0:\n",
        "        raise ValueError(\"Factorial is not defined for negative numbers.\")\n",
        "    if n == 0:\n",
        "        return 1\n",
        "    result = 1\n",
        "    for i in range(1, n + 1):\n",
        "        result *= i\n",
        "    return result\n",
        "\n",
        "\n",
        "test_values = [0, 1, 5, 10, 20]\n",
        "\n",
        "for value in test_values:\n",
        "    print(f\"Factorial of {value} is {factorial(value)}\")"
      ],
      "metadata": {
        "id": "WkKnnVe0QKBK",
        "colab": {
          "base_uri": "https://localhost:8080/"
        },
        "outputId": "247e7b57-106d-41d5-c77a-5d712edda261"
      },
      "execution_count": null,
      "outputs": [
        {
          "output_type": "stream",
          "name": "stdout",
          "text": [
            "Factorial of 0 is 1\n",
            "Factorial of 1 is 1\n",
            "Factorial of 5 is 120\n",
            "Factorial of 10 is 3628800\n",
            "Factorial of 20 is 2432902008176640000\n"
          ]
        }
      ]
    },
    {
      "cell_type": "markdown",
      "source": [
        "**103. Palindrome Checker: Write a Python function called `is_palindrome` that takes a string as input and returns `True` if it is a palindrome and `False` otherwise. Test the function with different words.**"
      ],
      "metadata": {
        "id": "fBk3UKcm3rtf"
      }
    },
    {
      "cell_type": "code",
      "source": [
        "import re\n",
        "\n",
        "def is_palindrome(s):\n",
        "    \"\"\"\n",
        "    Check if the given string s is a palindrome.\n",
        "    \"\"\"\n",
        "\n",
        "    cleaned_s = re.sub(r'[^A-Za-z0-9]', '', s).lower()\n",
        "\n",
        "    return cleaned_s == cleaned_s[::-1]\n",
        "\n",
        "\n",
        "test_strings = [\"Racecar\", \"Madam\", \"A man, a plan, a canal, Panama\", \"No lemon, no melon\", \"Hello\", \"Not a palindrome\"]\n",
        "\n",
        "for string in test_strings:\n",
        "    print(f\"'{string}' is a palindrome: {is_palindrome(string)}\")"
      ],
      "metadata": {
        "colab": {
          "base_uri": "https://localhost:8080/"
        },
        "id": "Oquw2BD131Yh",
        "outputId": "474452cd-f516-460b-fe28-2ba322bc348a"
      },
      "execution_count": null,
      "outputs": [
        {
          "output_type": "stream",
          "name": "stdout",
          "text": [
            "'Racecar' is a palindrome: True\n",
            "'Madam' is a palindrome: True\n",
            "'A man, a plan, a canal, Panama' is a palindrome: True\n",
            "'No lemon, no melon' is a palindrome: True\n",
            "'Hello' is a palindrome: False\n",
            "'Not a palindrome' is a palindrome: False\n"
          ]
        }
      ]
    },
    {
      "cell_type": "markdown",
      "source": [
        "**104. Even or Odd Checker: Write a Python function called `even_or_odd` that takes an integer as input and returns “Even” if the number is even and “Odd” if the number is odd. Test the function with different numbers.**"
      ],
      "metadata": {
        "id": "_sn8pzsA4Y13"
      }
    },
    {
      "cell_type": "code",
      "source": [
        "def even_or_odd(n):\n",
        "    \"\"\"\n",
        "    Determine if the given integer n is even or odd.\n",
        "    \"\"\"\n",
        "    return \"Even\" if n % 2 == 0 else \"Odd\"\n",
        "\n",
        "\n",
        "test_numbers = [0, 1, 2, 15, 22, 33, 48, 59, 100]\n",
        "\n",
        "for number in test_numbers:\n",
        "    print(f\"{number} is {even_or_odd(number)}\")"
      ],
      "metadata": {
        "colab": {
          "base_uri": "https://localhost:8080/"
        },
        "id": "EwnLyi9746lA",
        "outputId": "d79926ea-5330-478e-925f-405972e2d5eb"
      },
      "execution_count": null,
      "outputs": [
        {
          "output_type": "stream",
          "name": "stdout",
          "text": [
            "0 is Even\n",
            "1 is Odd\n",
            "2 is Even\n",
            "15 is Odd\n",
            "22 is Even\n",
            "33 is Odd\n",
            "48 is Even\n",
            "59 is Odd\n",
            "100 is Even\n"
          ]
        }
      ]
    },
    {
      "cell_type": "markdown",
      "source": [
        "**105. List Sum Calculator: Write a Python function called `list_sum` that takes a list of integers as input and returns the sum of all elements in the list. Test the function with different lists.**"
      ],
      "metadata": {
        "id": "chp5QmX75mjX"
      }
    },
    {
      "cell_type": "code",
      "source": [
        "def list_sum(numbers):\n",
        "    \"\"\"\n",
        "    Calculate the sum of all elements in the given list of integers.\n",
        "    \"\"\"\n",
        "    return sum(numbers)\n",
        "\n",
        "\n",
        "test_lists = [\n",
        "    [1, 2, 3, 4, 5],\n",
        "    [10, 20, 30, 40, 50],\n",
        "    [-1, -2, -3, -4, -5],\n",
        "    [100, 200, 300, 400, 500],\n",
        "    [0, 0, 0, 0, 0],\n",
        "    [1]\n",
        "]\n",
        "\n",
        "for numbers in test_lists:\n",
        "    print(f\"The sum of {numbers} is {list_sum(numbers)}\")"
      ],
      "metadata": {
        "colab": {
          "base_uri": "https://localhost:8080/"
        },
        "id": "msoBOEdf5pp_",
        "outputId": "083bb326-44dc-4cec-d721-90c2179bdb62"
      },
      "execution_count": null,
      "outputs": [
        {
          "output_type": "stream",
          "name": "stdout",
          "text": [
            "The sum of [1, 2, 3, 4, 5] is 15\n",
            "The sum of [10, 20, 30, 40, 50] is 150\n",
            "The sum of [-1, -2, -3, -4, -5] is -15\n",
            "The sum of [100, 200, 300, 400, 500] is 1500\n",
            "The sum of [0, 0, 0, 0, 0] is 0\n",
            "The sum of [1] is 1\n"
          ]
        }
      ]
    },
    {
      "cell_type": "markdown",
      "source": [
        "**106. Greatest Common Divisor (GCD) Calculator: Write a Python function called `gcd` that takes two integers as input and returns their greatest common divisor. Test the function with different pairs of numbers.**"
      ],
      "metadata": {
        "id": "zVAlMD4-6VGQ"
      }
    },
    {
      "cell_type": "code",
      "source": [
        "def gcd(a, b):\n",
        "    \"\"\"\n",
        "    Calculate the greatest common divisor (GCD) of two integers a and b using the Euclidean algorithm.\n",
        "    \"\"\"\n",
        "    while b != 0:\n",
        "        a, b = b, a % b\n",
        "    return a\n",
        "\n",
        "\n",
        "test_pairs = [\n",
        "    (48, 18),\n",
        "    (56, 98),\n",
        "    (101, 103),\n",
        "    (270, 192),\n",
        "    (0, 5),\n",
        "    (7, 0),\n",
        "    (12, 15),\n",
        "    (14, 49),\n",
        "]\n",
        "\n",
        "for a, b in test_pairs:\n",
        "    print(f\"The GCD of {a} and {b} is {gcd(a, b)}\")"
      ],
      "metadata": {
        "colab": {
          "base_uri": "https://localhost:8080/"
        },
        "id": "qOFz7ihd6cZ_",
        "outputId": "03e97ba6-e1e1-4387-f13e-ccbbd7ae0e49"
      },
      "execution_count": null,
      "outputs": [
        {
          "output_type": "stream",
          "name": "stdout",
          "text": [
            "The GCD of 48 and 18 is 6\n",
            "The GCD of 56 and 98 is 14\n",
            "The GCD of 101 and 103 is 1\n",
            "The GCD of 270 and 192 is 6\n",
            "The GCD of 0 and 5 is 5\n",
            "The GCD of 7 and 0 is 7\n",
            "The GCD of 12 and 15 is 3\n",
            "The GCD of 14 and 49 is 7\n"
          ]
        }
      ]
    },
    {
      "cell_type": "markdown",
      "source": [
        "**107. Leap Year Checker: Write a Python function called `is_leap_year` that takes a year as input and returns `True` if it is a leap year and `False` otherwise. Test the function with different years.**"
      ],
      "metadata": {
        "id": "hkQqxjoX7BvJ"
      }
    },
    {
      "cell_type": "code",
      "source": [
        "def is_leap_year(year):\n",
        "    \"\"\"\n",
        "    Determine if the given year is a leap year.\n",
        "    \"\"\"\n",
        "    if (year % 4 == 0 and year % 100 != 0) or (year % 400 == 0):\n",
        "        return True\n",
        "    return False\n",
        "\n",
        "test_years = [2000, 1900, 2004, 2019, 2020, 2100, 2400, 2021]\n",
        "\n",
        "for year in test_years:\n",
        "    print(f\"{year} is a leap year: {is_leap_year(year)}\")"
      ],
      "metadata": {
        "colab": {
          "base_uri": "https://localhost:8080/"
        },
        "id": "iKy8kAwR8u2C",
        "outputId": "fef10e82-20f0-4a1f-a89b-cd918539e573"
      },
      "execution_count": null,
      "outputs": [
        {
          "output_type": "stream",
          "name": "stdout",
          "text": [
            "2000 is a leap year: True\n",
            "1900 is a leap year: False\n",
            "2004 is a leap year: True\n",
            "2019 is a leap year: False\n",
            "2020 is a leap year: True\n",
            "2100 is a leap year: False\n",
            "2400 is a leap year: True\n",
            "2021 is a leap year: False\n"
          ]
        }
      ]
    },
    {
      "cell_type": "markdown",
      "source": [
        "**108. Math Operations: Write a Python function called `math_operations` that takes three numbers and a string representing an operation (‘add’, ‘subtract’, ‘multiply’, or ‘divide’). The function should return the result of the specified operation on the three numbers. Implement the math operations as nested functions.**"
      ],
      "metadata": {
        "id": "LnoaaKdS88Wo"
      }
    },
    {
      "cell_type": "code",
      "source": [
        "def math_operations(a, b, c, operation):\n",
        "    \"\"\"\n",
        "    Perform the specified operation ('add', 'subtract', 'multiply', 'divide') on three numbers a, b, and c.\n",
        "    \"\"\"\n",
        "    def add(x, y, z):\n",
        "        return x + y + z\n",
        "\n",
        "    def subtract(x, y, z):\n",
        "        return x - y - z\n",
        "\n",
        "    def multiply(x, y, z):\n",
        "        return x * y * z\n",
        "\n",
        "    def divide(x, y, z):\n",
        "        if y == 0 or z == 0:\n",
        "            raise ValueError(\"Cannot divide by zero.\")\n",
        "        return x / y / z\n",
        "\n",
        "    operations = {\n",
        "        'add': add,\n",
        "        'subtract': subtract,\n",
        "        'multiply': multiply,\n",
        "        'divide': divide\n",
        "    }\n",
        "\n",
        "    if operation not in operations:\n",
        "        raise ValueError(\"Invalid operation. Supported operations: 'add', 'subtract', 'multiply', 'divide'.\")\n",
        "\n",
        "    return operations[operation](a, b, c)\n",
        "\n",
        "test_cases = [\n",
        "    (1, 2, 3, 'add'),\n",
        "    (10, 5, 2, 'subtract'),\n",
        "    (2, 3, 4, 'multiply'),\n",
        "    (20, 5, 2, 'divide'),\n",
        "    (10, 0, 2, 'divide')\n",
        "]\n",
        "\n",
        "for a, b, c, operation in test_cases:\n",
        "    try:\n",
        "        result = math_operations(a, b, c, operation)\n",
        "        print(f\"The result of {operation} operation on {a}, {b}, and {c} is: {result}\")\n",
        "    except ValueError as e:\n",
        "        print(f\"Error: {e}\")"
      ],
      "metadata": {
        "colab": {
          "base_uri": "https://localhost:8080/"
        },
        "id": "3FTxMW3Z9r9G",
        "outputId": "143ef7a4-27e5-4fb6-8aaf-c460f0d62f83"
      },
      "execution_count": null,
      "outputs": [
        {
          "output_type": "stream",
          "name": "stdout",
          "text": [
            "The result of add operation on 1, 2, and 3 is: 6\n",
            "The result of subtract operation on 10, 5, and 2 is: 3\n",
            "The result of multiply operation on 2, 3, and 4 is: 24\n",
            "The result of divide operation on 20, 5, and 2 is: 2.0\n",
            "Error: Cannot divide by zero.\n"
          ]
        }
      ]
    },
    {
      "cell_type": "markdown",
      "source": [
        "**109. Greeting Generator: Write a Python function called `greeting_generator` that takes a name as input and returns a greeting message using nested functions. The greeting message should be customizable (e.g., “Hello, {name}! How are you today?”).**"
      ],
      "metadata": {
        "id": "cT4ETEKg99y-"
      }
    },
    {
      "cell_type": "code",
      "source": [
        "def greeting_generator(name):\n",
        "    def greet():\n",
        "        return f\"Hello, {name}! How are you today?\"\n",
        "\n",
        "    return greet()\n",
        "\n",
        "\n",
        "print(greeting_generator(\"Shamima\"))"
      ],
      "metadata": {
        "colab": {
          "base_uri": "https://localhost:8080/"
        },
        "id": "vVh3YNwT-QiW",
        "outputId": "4f9ddc0c-f22b-433f-b084-e6a16951bbc7"
      },
      "execution_count": null,
      "outputs": [
        {
          "output_type": "stream",
          "name": "stdout",
          "text": [
            "Hello, Shamima! How are you today?\n"
          ]
        }
      ]
    },
    {
      "cell_type": "markdown",
      "source": [
        "**110. Temperature Converter: Write a Python function called `temperature_converter` that takes a temperature value and a string representing the scale (‘C’ for Celsius or ‘F’ for Fahrenheit) as input. The function should convert the temperature from one scale to the other using nested functions and return the converted value.**"
      ],
      "metadata": {
        "id": "3QRcULLuAsvV"
      }
    },
    {
      "cell_type": "code",
      "source": [
        "def temperature_converter(temp, scale):\n",
        "    def celsius_to_fahrenheit(celsius):\n",
        "        return (celsius * 9/5) + 32\n",
        "\n",
        "    def fahrenheit_to_celsius(fahrenheit):\n",
        "        return (fahrenheit - 32) * 5/9\n",
        "\n",
        "    if scale == 'C':\n",
        "        return fahrenheit_to_celsius(temp)\n",
        "    elif scale == 'F':\n",
        "        return celsius_to_fahrenheit(temp)\n",
        "    else:\n",
        "        return \"Invalid scale. Please use 'C' for Celsius or 'F' for Fahrenheit.\"\n",
        "\n",
        "\n",
        "print(temperature_converter(32, 'F'))\n",
        "print(temperature_converter(100, 'C'))"
      ],
      "metadata": {
        "colab": {
          "base_uri": "https://localhost:8080/"
        },
        "id": "64it8iiyAx2b",
        "outputId": "9918bcbc-bf77-4f0c-a4ac-0e038ae5c23b"
      },
      "execution_count": null,
      "outputs": [
        {
          "output_type": "stream",
          "name": "stdout",
          "text": [
            "89.6\n",
            "37.77777777777778\n"
          ]
        }
      ]
    },
    {
      "cell_type": "markdown",
      "source": [
        "\n",
        "**111. Factorial Calculation: Write a recursive Python function called `factorial` that takes a non-negative integer as input and returns its factorial.**"
      ],
      "metadata": {
        "id": "nQa18LuxCI5x"
      }
    },
    {
      "cell_type": "code",
      "source": [
        "def factorial(n):\n",
        "    if n == 0:\n",
        "        return 1\n",
        "    else:\n",
        "        return n * factorial(n - 1)\n",
        "\n",
        "\n",
        "print(factorial(5))\n",
        "print(factorial(0))\n"
      ],
      "metadata": {
        "colab": {
          "base_uri": "https://localhost:8080/"
        },
        "id": "sy-VRkFBCdCH",
        "outputId": "17bb3bd2-9a8d-4dd1-c2ed-bc90cffef658"
      },
      "execution_count": null,
      "outputs": [
        {
          "output_type": "stream",
          "name": "stdout",
          "text": [
            "120\n",
            "1\n"
          ]
        }
      ]
    },
    {
      "cell_type": "markdown",
      "source": [
        "**112. Fibonacci Series: Write a recursive Python function called `Fibonacci` that takes an integer N as input and returns the Nth number in the Fibonacci series. The Fibonacci series is defined as follows: F(0) = 0, F(1) = 1, and F(n) = F(n-1) + F(n-2) for n > 1**."
      ],
      "metadata": {
        "id": "OKD5LlwhCruI"
      }
    },
    {
      "cell_type": "code",
      "source": [
        "def Fibonacci(n):\n",
        "    if n <= 1:\n",
        "        return n\n",
        "    else:\n",
        "        return Fibonacci(n - 1) + Fibonacci(n - 2)\n",
        "\n",
        "print(Fibonacci(0))\n",
        "print(Fibonacci(1))\n",
        "print(Fibonacci(2))\n",
        "print(Fibonacci(5))\n",
        "print(Fibonacci(10))"
      ],
      "metadata": {
        "colab": {
          "base_uri": "https://localhost:8080/"
        },
        "id": "J_ONYw0WCuwv",
        "outputId": "84cd8365-755c-495a-aa50-135a9da88c97"
      },
      "execution_count": null,
      "outputs": [
        {
          "output_type": "stream",
          "name": "stdout",
          "text": [
            "0\n",
            "1\n",
            "1\n",
            "5\n",
            "55\n"
          ]
        }
      ]
    },
    {
      "cell_type": "markdown",
      "source": [
        "**113. The sum of Digits: Write a recursive Python function called `sum_of_digits` that takes an integer as input and returns the sum of its digits.**"
      ],
      "metadata": {
        "id": "8jbSosoqDGtg"
      }
    },
    {
      "cell_type": "code",
      "source": [
        "def sum_of_digits(n):\n",
        "    if n < 10:\n",
        "        return n\n",
        "    else:\n",
        "        return n % 10 + sum_of_digits(n // 10)\n",
        "\n",
        "\n",
        "print(sum_of_digits(123))\n",
        "print(sum_of_digits(4567))\n",
        "print(sum_of_digits(987))"
      ],
      "metadata": {
        "colab": {
          "base_uri": "https://localhost:8080/"
        },
        "id": "jr8a2Q6mDO1h",
        "outputId": "c200eae4-ba2d-45b8-b8fb-8d7440eb0bf4"
      },
      "execution_count": null,
      "outputs": [
        {
          "output_type": "stream",
          "name": "stdout",
          "text": [
            "6\n",
            "22\n",
            "24\n"
          ]
        }
      ]
    },
    {
      "cell_type": "markdown",
      "source": [
        "**114. Binary Search: Write a recursive Python function called `binary_search` that takes a sorted list and a target value as input and returns the index of the target value in the list using binary search. If the target value is not in the list, return -1.**"
      ],
      "metadata": {
        "id": "sWPoVj9TDxsQ"
      }
    },
    {
      "cell_type": "code",
      "source": [
        "def binary_search(arr, target, left=0, right=None):\n",
        "    if right is None:\n",
        "        right = len(arr) - 1\n",
        "\n",
        "    if left > right:\n",
        "        return -1\n",
        "\n",
        "    mid = (left + right) // 2\n",
        "\n",
        "    if arr[mid] == target:\n",
        "        return mid\n",
        "    elif arr[mid] < target:\n",
        "        return binary_search(arr, target, mid + 1, right)\n",
        "    else:\n",
        "        return binary_search(arr, target, left, mid - 1)\n",
        "\n",
        "\n",
        "arr = [1, 3, 5, 7, 9, 11, 13, 15, 17, 19]\n",
        "target = 11\n",
        "print(binary_search(arr, target))"
      ],
      "metadata": {
        "colab": {
          "base_uri": "https://localhost:8080/"
        },
        "id": "wH0rcWIoD0cf",
        "outputId": "45f2c5e4-0131-4262-a053-4ebcd95b0eb6"
      },
      "execution_count": null,
      "outputs": [
        {
          "output_type": "stream",
          "name": "stdout",
          "text": [
            "5\n"
          ]
        }
      ]
    },
    {
      "cell_type": "markdown",
      "source": [
        "**115. Power Calculation: Write a recursive Python function called `power` that takes two positive integers, base and exponent, as input and returns the value of base raised to the exponent.**"
      ],
      "metadata": {
        "id": "IkOg_5V4E2EA"
      }
    },
    {
      "cell_type": "code",
      "source": [
        "def power(base, exponent):\n",
        "    if exponent == 0:\n",
        "        return 1\n",
        "    elif exponent == 1:\n",
        "        return base\n",
        "    else:\n",
        "        return base * power(base, exponent - 1)\n",
        "\n",
        "\n",
        "print(power(2, 3))\n",
        "print(power(5, 2))\n",
        "print(power(3, 4))"
      ],
      "metadata": {
        "colab": {
          "base_uri": "https://localhost:8080/"
        },
        "id": "Ir-m5laVFHox",
        "outputId": "f5e26fa3-2fe2-407b-f3b8-dcbd8a452bc8"
      },
      "execution_count": null,
      "outputs": [
        {
          "output_type": "stream",
          "name": "stdout",
          "text": [
            "8\n",
            "25\n",
            "81\n"
          ]
        }
      ]
    }
  ]
}